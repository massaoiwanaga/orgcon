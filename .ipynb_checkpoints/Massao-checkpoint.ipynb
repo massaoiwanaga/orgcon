{
 "cells": [
  {
   "cell_type": "markdown",
   "metadata": {},
   "source": [
    "# Using a Jupyter Notebook to perform a Nanopublication analysis over five datasets (DisGeNet, NeXtProt, WikiPathways, LIDDI, OpenBEL)\n",
    "\n",
    "## Data Quality Issues in Current Nanopublications \n",
    "\n",
    "Imran Asif ([ORCID:0000-0002-1144-6265](https://orcid.org/0000-0002-1144-6265))  \n",
    "PhD Student, Computer Science\n",
    "\n",
    "_Heriot-Watt University, Edinburgh, UK_"
   ]
  },
  {
   "cell_type": "markdown",
   "metadata": {},
   "source": [
    "<h2>Overview</h2>\n",
    "\n",
    "To re-run the analysis, you have to install the SPARQL endpoints (Virtuoso, Jena Fuseki) and upload the datasets to SPARQL endpoints. After that you have to give the SPARQL endpoint link for processing the SPARQL queries.\n",
    "\n",
    "- If you don't want to install the SPARQL endpoints, Then I provided the fecility to the analyser that run the data from the csv files. These csv files are provided with the jupyter notebook. The content of these files are extracted from the  nanopublications datasets.\n",
    "\n",
    "\n",
    "<h3>Nanopublication Datasets Used</h3>\n",
    "\n",
    "- [neXtProt 1900_2000](https://sourceforge.net/projects/nextprot2rdf/files/data/nextprot/releases/2014-09/nextprot_19001_20000.tar.gz/download)\n",
    "\n",
    "- [DisGetNET 4.0](http://rdf.disgenet.org/download/v4.0.0/nanopublications_v4.0.0.0.trig.gz)\n",
    "\n",
    "- [WikiPathways 20170513](https://datahub.ckan.io/dataset/c830df94-bd9a-4920-b6c5-b3c2e9bfeb02/resource/0aed1da3-d386-425c-8e8d-fea39756fdfa/download/wp-monthy_all.trig.gz)\n",
    "\n",
    "- [LIDDI V1.02](https://drive.google.com/open?id=18B09S4MtWD1G3i8mDf-8kBU4VHZv_EFX)\n",
    "\n",
    "- [OpenBell 20131211](https://drive.google.com/open?id=1_JGBm29bJop8atea6PgCJLip9BZG-aD3)\n",
    "\n",
    "\n",
    "[![Binder](https://mybinder.org/badge_logo.svg)](https://mybinder.org/v2/gh/ImranAsif48/RO2019/master)"
   ]
  },
  {
   "cell_type": "markdown",
   "metadata": {},
   "source": [
    "## Import Libraries ##"
   ]
  },
  {
   "cell_type": "code",
   "execution_count": 29,
   "metadata": {},
   "outputs": [],
   "source": [
    "import seaborn as sns\n",
    "# import pandas\n",
    "import pandas as pd\n",
    "# import matplotlib\n",
    "import matplotlib.pyplot as plt\n",
    "\n",
    "import csv\n",
    "\n",
    "from SPARQLWrapper import SPARQLWrapper, JSON\n",
    "\n",
    "import statistics\n",
    "import numpy as np"
   ]
  },
  {
   "cell_type": "markdown",
   "metadata": {},
   "source": [
    "## Load Triples count"
   ]
  },
  {
   "cell_type": "markdown",
   "metadata": {},
   "source": [
    "If you do not want to install the endpoints such as virtuoso and jena fuseki. Then please run the following script to load the triples count data and you are able to re-run the analysis. For this purpose you no need to run the SPARQL queries."
   ]
  },
  {
   "cell_type": "code",
   "execution_count": 3,
   "metadata": {},
   "outputs": [],
   "source": [
    "# Declare arrays\n",
    "nxtHeadTriples = []\n",
    "nxtAssertionTriples = []\n",
    "nxtProvenanceTriples = []\n",
    "nxtPubInfoTriples = []\n",
    "\n",
    "wpHeadTriples = []\n",
    "wpAssertionTriples = []\n",
    "wpProvenanceTriples = []\n",
    "wpPubInfoTriples = []\n",
    "\n",
    "dgHeadTriples = []\n",
    "dgAssertionTriples = []\n",
    "dgProvenanceTriples = []\n",
    "dgPubInfoTriples = []\n",
    "\n",
    "openBellHeadTriples = []\n",
    "openBellAssertionTriples = []\n",
    "openBellProvenanceTriples = []\n",
    "openBellPubInfoTriples = []\n",
    "\n",
    "liddiHeadTriples = []\n",
    "liddiAssertionTriples = []\n",
    "liddiProvenanceTriples = []\n",
    "liddiPubInfoTriples = []\n",
    "\n",
    "# For NextProt Dataset\n",
    "with open('distributionNeXtProt.csv') as csv_file:\n",
    "    csv_reader = csv.reader(csv_file, delimiter=',')\n",
    "    line_count = 0\n",
    "    for row in csv_reader:\n",
    "        if line_count == 0:\n",
    "            line_count += 1\n",
    "        else:\n",
    "            if len(row) > 0:\n",
    "                if row[0] == 'Head':\n",
    "                    nxtHeadTriples.append(int(row[1]))\n",
    "                if row[0] == 'Assertion':\n",
    "                    nxtAssertionTriples.append(int(row[1]))\n",
    "                if row[0] == 'Provenance':\n",
    "                    nxtProvenanceTriples.append(int(row[1]))\n",
    "                if row[0] == 'PublicationInfo':\n",
    "                    nxtPubInfoTriples.append(int(row[1]))\n",
    "                    \n",
    "# For Wikipathways Dataset\n",
    "with open('distributionWikiPathways.csv') as csv_file:\n",
    "    csv_reader = csv.reader(csv_file, delimiter=',')\n",
    "    line_count = 0\n",
    "    for row in csv_reader:\n",
    "        if line_count == 0:\n",
    "            line_count += 1\n",
    "        else:\n",
    "            if len(row) > 0:\n",
    "                if row[0] == 'Head':\n",
    "                    wpHeadTriples.append(int(row[1]))\n",
    "                if row[0] == 'Assertion':\n",
    "                    wpAssertionTriples.append(int(row[1]))\n",
    "                if row[0] == 'Provenance':\n",
    "                    wpProvenanceTriples.append(int(row[1]))\n",
    "                if row[0] == 'PublicationInfo':\n",
    "                    wpPubInfoTriples.append(int(row[1]))\n",
    "\n",
    "                    \n",
    "# For DisGeNET Dataset\n",
    "with open('distributionDisGeNET.csv') as csv_file:\n",
    "    csv_reader = csv.reader(csv_file, delimiter=',')\n",
    "    line_count = 0\n",
    "    for row in csv_reader:\n",
    "        if line_count == 0:\n",
    "            line_count += 1\n",
    "        else:\n",
    "            if len(row) > 0:\n",
    "                if row[0] == 'Head':\n",
    "                    dgHeadTriples.append(int(row[1]))\n",
    "                if row[0] == 'Assertion':\n",
    "                    dgAssertionTriples.append(int(row[1]))\n",
    "                if row[0] == 'Provenance':\n",
    "                    dgProvenanceTriples.append(int(row[1]))\n",
    "                if row[0] == 'PublicationInfo':\n",
    "                    dgPubInfoTriples.append(int(row[1]))\n",
    "                    \n",
    "# For OpenBel Dataset\n",
    "with open('distributionOpenBel.csv') as csv_file:\n",
    "    csv_reader = csv.reader(csv_file, delimiter=',')\n",
    "    line_count = 0\n",
    "    for row in csv_reader:\n",
    "        if line_count == 0:\n",
    "            line_count += 1\n",
    "        else:\n",
    "            if len(row) > 0:\n",
    "                if row[0] == 'Head':\n",
    "                    openBellHeadTriples.append(int(row[1]))\n",
    "                if row[0] == 'Assertion':\n",
    "                    openBellAssertionTriples.append(int(row[1]))\n",
    "                if row[0] == 'Provenance':\n",
    "                    openBellProvenanceTriples.append(int(row[1]))\n",
    "                if row[0] == 'PublicationInfo':\n",
    "                    openBellPubInfoTriples.append(int(row[1]))\n",
    "\n",
    "# For LIDDI Dataset\n",
    "with open('distributionLIDD.csv') as csv_file:\n",
    "    csv_reader = csv.reader(csv_file, delimiter=',')\n",
    "    line_count = 0\n",
    "    for row in csv_reader:\n",
    "        if line_count == 0:\n",
    "            line_count += 1\n",
    "        else:\n",
    "            if len(row) > 0:\n",
    "                if row[0] == 'Head':\n",
    "                    liddiHeadTriples.append(int(row[1]))\n",
    "                if row[0] == 'Assertion':\n",
    "                    liddiAssertionTriples.append(int(row[1]))\n",
    "                if row[0] == 'Provenance':\n",
    "                    liddiProvenanceTriples.append(int(row[1]))\n",
    "                if row[0] == 'PublicationInfo':\n",
    "                    liddiPubInfoTriples.append(int(row[1]))"
   ]
  },
  {
   "cell_type": "markdown",
   "metadata": {},
   "source": [
    "## SPARQL EndPoints ##"
   ]
  },
  {
   "cell_type": "markdown",
   "metadata": {},
   "source": [
    "Please provide your SPAQRL endpoints. "
   ]
  },
  {
   "cell_type": "code",
   "execution_count": 33,
   "metadata": {},
   "outputs": [],
   "source": [
    "\n",
    "#Define local DisGeNet SPARQL endpoint and function to run queries over it\n",
    "#dbSparqlDGN = SPARQLWrapper(\"http://localhost:8890/sparql/\")\n",
    "#dbSparqlDGN = SPARQLWrapper(\"http://localhost:3030/DisGeNet_V4/query\")\n",
    "#dbSparqlDGN = SPARQLWrapper(\"http://DESKTOP-J4GEQRH:7200/repositories/TrabFinal\")\n",
    "#dbSparqlDGN.setReturnFormat(JSON)\n",
    "\n",
    "#def queryDisGeNET(query):\n",
    "#    dbSparqlDGN.setQuery(query)\n",
    "#    results = dbSparqlDGN.queryAndConvert()\n",
    "#    return results\n",
    "\n",
    "#Define local NeXtProt SPARQL endpoint and function to run queries over it\n",
    "#dbSparqlNxt = SPARQLWrapper(\"http://localhost:3030/nextProt/query\")\n",
    "#dbSparqlNxt.setReturnFormat(JSON)\n",
    "\n",
    "#def queryNeXtProt(query):\n",
    "#    dbSparqlNxt.setQuery(query)\n",
    "#    results = dbSparqlNxt.queryAndConvert()\n",
    "#    return results\n",
    "\n",
    "#Define local WikiPathways SPARQL endpoint and function to run queries over it\n",
    "dbSparqlWP = SPARQLWrapper(\"http://DESKTOP-J4GEQRH:7200/repositories/TrabFinal\")\n",
    "dbSparqlWP.setReturnFormat(JSON)\n",
    "\n",
    "def queryWP(query):\n",
    "    dbSparqlWP.setQuery(query)\n",
    "    results = dbSparqlWP.queryAndConvert()\n",
    "    #results = dbSparqlWP.query().convert()\n",
    "    return results\n",
    "\n",
    "#Define local OpenBell Large Corpus SPARQL endpoint and function to run queries over it\n",
    "#dbSparqlOBL = SPARQLWrapper(\"http://localhost:3030/OpenBellLargeCorpus/query\")\n",
    "#dbSparqlOBL.setReturnFormat(JSON)\n",
    "\n",
    "#def queryOpenBellLarge(query):\n",
    "#    dbSparqlOBL.setQuery(query)\n",
    "#    results = dbSparqlOBL.queryAndConvert()\n",
    "#    return results\n",
    "\n",
    "#Define local OpenBell Small Corpus SPARQL endpoint and function to run queries over it\n",
    "#dbSparqlOBS = SPARQLWrapper(\"http://localhost:3030/OpenBellSmallCorpus/query\")\n",
    "#dbSparqlOBS.setReturnFormat(JSON)\n",
    "\n",
    "#def queryOpenBellSmall(query):\n",
    "#    dbSparqlOBS.setQuery(query)\n",
    "#    results = dbSparqlOBS.queryAndConvert()\n",
    "#    return results\n",
    "\n",
    "#Define local LIDDI SPARQL endpoint and function to run queries over it\n",
    "#dbSparqlLIDDI = SPARQLWrapper(\"http://localhost:3030/LIDDI/query\")\n",
    "#dbSparqlLIDDI.setReturnFormat(JSON)\n",
    "\n",
    "#def queryLIDDI(query):\n",
    "#    dbSparqlLIDDI.setQuery(query)\n",
    "#    results = dbSparqlLIDDI.queryAndConvert()\n",
    "#    return results"
   ]
  },
  {
   "cell_type": "markdown",
   "metadata": {},
   "source": [
    "## Utilities"
   ]
  },
  {
   "cell_type": "code",
   "execution_count": 3,
   "metadata": {},
   "outputs": [],
   "source": [
    "# Define function to get the array of count result from JSON SPARQL result set\n",
    "def get_array(results):\n",
    "    \"\"\"\n",
    "    Extract the count result from the JSON format\n",
    "    \"\"\"\n",
    "    array = []\n",
    "    for result in results[\"results\"][\"bindings\"]:\n",
    "        if((result[\"count\"][\"value\"]).isnumeric()):\n",
    "            value = int(result[\"count\"][\"value\"])\n",
    "            array.append(value)\n",
    "    array.sort()\n",
    "    return array\n",
    "\n",
    "def average(list):\n",
    "    return sum(list) / float(len(list)) "
   ]
  },
  {
   "cell_type": "markdown",
   "metadata": {},
   "source": [
    "## NeXtProt Distribution ##"
   ]
  },
  {
   "cell_type": "markdown",
   "metadata": {},
   "source": [
    "### [NeXtProt](https://www.nextprot.org/) ###\n",
    "\n",
    "neXtProt is an on-line knowledge platform on human proteins. It strives to be a comprehensive resource that provides a variety of types of information on human proteins, such as their function, subcellular location, expression, interactions and role in diseases.\n",
    "\n",
    "4025981 nanopublications. These nanopubs were automatically extracted from the neXtProt dataset. This set of nanopublications is preliminary. We are using 2015 version of nextProt nanopubliation for nanopublication triples analyses. The author for converting the nextprot dataset to nanopublication dataset was Oliver Karch who updated the [nextport nanopublication dataset](https://old.datahub.io/dataset/nextprot-preliminary-nanopubs) on July 27, 2015, 3:49 PM"
   ]
  },
  {
   "cell_type": "code",
   "execution_count": 10,
   "metadata": {},
   "outputs": [],
   "source": [
    "# The following query represent the triple's count of each head graph\n",
    "query = \"\"\"\n",
    "prefix np: <http://www.nanopub.org/nschema#>\n",
    "select (count(?h) as ?count) where {\n",
    "      graph ?h {\n",
    "        ?_np_iri a np:Nanopublication ;\n",
    "                  ?p ?o .\n",
    "       }\n",
    "    }\n",
    "GROUP BY ?h\n",
    "\"\"\"\n",
    "\n",
    "results = queryNeXtProt(query)\n",
    "nxtHeadTriples = get_array(results)"
   ]
  },
  {
   "cell_type": "code",
   "execution_count": 11,
   "metadata": {},
   "outputs": [],
   "source": [
    "# The following query represent the triple's count of each assertion graph\n",
    "query = \"\"\"\n",
    "prefix np: <http://www.nanopub.org/nschema#>\n",
    "\n",
    "    select (count(*) as ?count) where {\n",
    "      graph ?h {\n",
    "        ?_np_iri a np:Nanopublication ;\n",
    "          np:hasAssertion ?a .\n",
    "      }\n",
    "      graph ?a {?s ?p ?o}\n",
    "    } \n",
    "    GROUP BY ?a\n",
    "\"\"\"\n",
    "\n",
    "results = queryNeXtProt(query)\n",
    "nxtAssertionTriples = get_array(results)"
   ]
  },
  {
   "cell_type": "code",
   "execution_count": 12,
   "metadata": {},
   "outputs": [],
   "source": [
    "# The following query represent the triple's count of each Provenance graph\n",
    "query = \"\"\"\n",
    "prefix np: <http://www.nanopub.org/nschema#>\n",
    "\n",
    "    select (count(*) as ?count) where {\n",
    "      graph ?h {\n",
    "        ?_np_iri a np:Nanopublication ;\n",
    "          np:hasProvenance ?prov .\n",
    "      }\n",
    "      graph ?prov {?s ?p ?o}\n",
    "    } \n",
    "    GROUP BY ?prov\n",
    "\"\"\"\n",
    "\n",
    "results = queryNeXtProt(query)\n",
    "nxtProvenanceTriples = get_array(results)"
   ]
  },
  {
   "cell_type": "code",
   "execution_count": 13,
   "metadata": {},
   "outputs": [],
   "source": [
    "# The following query represent the triple's count of each Publication Information graph\n",
    "query = \"\"\"\n",
    "prefix np: <http://www.nanopub.org/nschema#>\n",
    "\n",
    "    select (count(*) as ?count) where {\n",
    "      graph ?h {\n",
    "        ?_np_iri a np:Nanopublication ;\n",
    "          np:hasPublicationInfo ?pubInfo .\n",
    "      }\n",
    "      graph ?pubInfo {?s ?p ?o}\n",
    "    } \n",
    "    GROUP BY ?pubInfo\n",
    "\"\"\"\n",
    "\n",
    "results = queryNeXtProt(query)\n",
    "nxtPubInfoTriples = get_array(results)"
   ]
  },
  {
   "cell_type": "code",
   "execution_count": 44,
   "metadata": {},
   "outputs": [],
   "source": [
    "#Writing on the excel file. If you have already installed virtuoso and jena fuseki.\n",
    "with open('distributionNeXtProt.csv', mode='w') as csv_file:\n",
    "    fieldnames = ['Graphs', 'Triples']\n",
    "    writer = csv.writer(csv_file, delimiter=',', quotechar='\"', quoting=csv.QUOTE_MINIMAL)\n",
    "    \n",
    "    writer.writerow(['Graphs', 'Triples'])\n",
    "    \n",
    "    # For Head Graph\n",
    "    for t in nxtHeadTriples:\n",
    "        writer.writerow(['Head', t])\n",
    "    \n",
    "    #For Assertion Graph\n",
    "    for t in nxtAssertionTriples:\n",
    "        writer.writerow(['Assertion', t])\n",
    "        \n",
    "    #For Provenance Graph\n",
    "    for t in nxtProvenanceTriples:\n",
    "        writer.writerow(['Provenance', t])\n",
    "        \n",
    "    #For Publication Information Graph\n",
    "    for t in nxtPubInfoTriples:\n",
    "        writer.writerow(['PublicationInfo', t])"
   ]
  },
  {
   "cell_type": "code",
   "execution_count": 45,
   "metadata": {},
   "outputs": [
    {
     "data": {
      "image/png": "[encoded data removed]",
      "text/plain": [
       "<Figure size 1152x595.44 with 1 Axes>"
      ]
     },
     "metadata": {},
     "output_type": "display_data"
    }
   ],
   "source": [
    "#Run this script if you have not installed virtuoso and jena fuseki\n",
    "dataNeXt = pd.read_csv('distributionNeXtProt.csv')\n",
    "\n",
    "sns.set(style=\"whitegrid\"),\n",
    "sns.set(rc={'figure.figsize':(16,8.27)}),\n",
    "ax = sns.boxplot(x=\"Graphs\", y=\"Triples\", hue=\"Graphs\", data=dataNeXt, palette=\"Set3\")\n",
    "ax.axes.set_title(\"NeXtProt Distribution\",fontsize=30)\n",
    "ax.set_ylim(0, 90);"
   ]
  },
  {
   "cell_type": "markdown",
   "metadata": {},
   "source": [
    "## WikiPathways Distribution ##"
   ]
  },
  {
   "cell_type": "markdown",
   "metadata": {},
   "source": [
    "### [WikiPathways](https://www.wikipathways.org)\n",
    "WikiPathways was established to facilitate the contribution and maintenance of pathway information by the biology community. WikiPathways is an open, collaborative platform dedicated to the curation of biological pathways. Each pathway at WikiPathways has a dedicated wiki page, displaying the current diagram, description, references, download options, version history, and component gene and protein lists. Any pathway can be edited from within its wiki page by activating an embedded pathway editor. \n",
    "\n",
    "[WikiPathways Semantic Web portal](https://www.wikipathways.org/index.php/Portal:Semantic_Web) describes the Semantic Web features of the WikiPathways databases, such as the Resource Description Framework (RDF) translation, the ontology, and the new nanopublications.\n",
    "\n",
    "We are using Wikipathways nanopublication 2017 version. The author Tobias Kuhn converted wikipathways database to nanopublication in October 05, 2017."
   ]
  },
  {
   "cell_type": "code",
   "execution_count": 4,
   "metadata": {},
   "outputs": [],
   "source": [
    "# The following query represent the triple's count of each head graph\n",
    "query = \"\"\"\n",
    "prefix np: <http://www.nanopub.org/nschema#>\n",
    "select (count(?h) as ?count)\n",
    "where {\n",
    "      graph ?h {\n",
    "        ?_np_iri a np:Nanopublication ;\n",
    "                  ?p ?o .\n",
    "       }\n",
    "    }\n",
    "GROUP BY ?h\n",
    "\"\"\"\n",
    "\n",
    "results = queryWP(query)\n",
    "wpHeadTriples = get_array(results)"
   ]
  },
  {
   "cell_type": "code",
   "execution_count": 5,
   "metadata": {},
   "outputs": [],
   "source": [
    "# The following query represent the triple's count of each assertion graph\n",
    "query = \"\"\"\n",
    "prefix np: <http://www.nanopub.org/nschema#>\n",
    "\n",
    "    select (count(*) as ?count)\n",
    "    where {\n",
    "      graph ?h {\n",
    "        ?_np_iri a np:Nanopublication ;\n",
    "          np:hasAssertion ?a .\n",
    "      }\n",
    "      graph ?a {?s ?p ?o}\n",
    "    } \n",
    "    GROUP BY ?a\n",
    "\"\"\"\n",
    "\n",
    "results = queryWP(query)\n",
    "wpAssertionTriples = get_array(results)"
   ]
  },
  {
   "cell_type": "code",
   "execution_count": 6,
   "metadata": {},
   "outputs": [],
   "source": [
    "# The following query represent the triple's count of each Provenance graph\n",
    "query = \"\"\"\n",
    "prefix np: <http://www.nanopub.org/nschema#>\n",
    "\n",
    "    select (count(*) as ?count)\n",
    "    where {\n",
    "      graph ?h {\n",
    "        ?_np_iri a np:Nanopublication ;\n",
    "          np:hasProvenance ?prov .\n",
    "      }\n",
    "      graph ?prov {?s ?p ?o}\n",
    "    } \n",
    "    GROUP BY ?prov\n",
    "\"\"\"\n",
    "\n",
    "results = queryWP(query)\n",
    "wpProvenanceTriples = get_array(results)"
   ]
  },
  {
   "cell_type": "code",
   "execution_count": 7,
   "metadata": {},
   "outputs": [],
   "source": [
    "# The following query represent the triple's count of each Publication Information graph\n",
    "query = \"\"\"\n",
    "prefix np: <http://www.nanopub.org/nschema#>\n",
    "\n",
    "    select (count(*) as ?count)\n",
    "    where {\n",
    "      graph ?h {\n",
    "        ?_np_iri a np:Nanopublication ;\n",
    "          np:hasPublicationInfo ?pubInfo .\n",
    "      }\n",
    "      graph ?pubInfo {?s ?p ?o}\n",
    "    } \n",
    "    GROUP BY ?pubInfo\n",
    "\"\"\"\n",
    "\n",
    "results = queryWP(query)\n",
    "wpPubInfoTriples = get_array(results)"
   ]
  },
  {
   "cell_type": "code",
   "execution_count": 8,
   "metadata": {},
   "outputs": [],
   "source": [
    "#Writing on the excel file. If you have already installed virtuoso and jena fuseki.\n",
    "with open('distributionWikiPathways.csv', mode='w') as csv_file:\n",
    "    fieldnames = ['Graphs', 'Triples']\n",
    "    writer = csv.writer(csv_file, delimiter=',', quotechar='\"', quoting=csv.QUOTE_MINIMAL)\n",
    "    \n",
    "    writer.writerow(['Graphs', 'Triples'])\n",
    "    \n",
    "    # For Head Graph\n",
    "    for t in wpHeadTriples:\n",
    "        writer.writerow(['Head', t])\n",
    "    \n",
    "    #For Assertion Graph\n",
    "    for t in wpAssertionTriples:\n",
    "        writer.writerow(['Assertion', t])\n",
    "        \n",
    "    #For Provenance Graph\n",
    "    for t in wpProvenanceTriples:\n",
    "        writer.writerow(['Provenance', t])\n",
    "        \n",
    "    #For Publication Information Graph\n",
    "    for t in wpPubInfoTriples:\n",
    "        writer.writerow(['PublicationInfo', t])"
   ]
  },
  {
   "cell_type": "code",
   "execution_count": 10,
   "metadata": {
    "scrolled": false
   },
   "outputs": [
    {
     "data": {
      "image/png": "[encoded data removed]",
      "text/plain": [
       "<Figure size 1152x595.44 with 1 Axes>"
      ]
     },
     "metadata": {},
     "output_type": "display_data"
    }
   ],
   "source": [
    "#Run this script if you have not installed virtuoso and jena fuseki\n",
    "dataWP = pd.read_csv('distributionWikiPathways.csv')\n",
    "\n",
    "sns.set(style=\"whitegrid\")\n",
    "sns.set(rc={'figure.figsize':(16,8.27)})\n",
    "ax = sns.boxplot(x=\"Graphs\", y=\"Triples\", hue=\"Graphs\", data=dataWP, palette=\"Set3\")\n",
    "ax.axes.set_title(\"WikiPathways Distribution\",fontsize=30)\n",
    "\n",
    "#the y-axis is cut-off at a count of 90. The WikiPathways nanopublications include up to 1,001 triples in the assertion graph.\n",
    "ax.set_ylim(0, 90);"
   ]
  },
  {
   "cell_type": "code",
   "execution_count": 22,
   "metadata": {},
   "outputs": [
    {
     "name": "stdout",
     "output_type": "stream",
     "text": [
      "[16247]\n"
     ]
    }
   ],
   "source": [
    "# CONTAGEM DE NANOPUBLICAÇÕES\n",
    "query = \"\"\"\n",
    "PREFIX np: <http://www.nanopub.org/nschema#>\n",
    "select (count(*) as ?count)\n",
    "where {\n",
    "    ?np a np:Nanopublication.\n",
    "}\n",
    "\"\"\"\n",
    "\n",
    "results = queryWP(query)\n",
    "wpNumNP = get_array(results)\n",
    "print(wpNumNP)"
   ]
  },
  {
   "cell_type": "code",
   "execution_count": 34,
   "metadata": {},
   "outputs": [
    {
     "name": "stdout",
     "output_type": "stream",
     "text": [
      "[16247]\n"
     ]
    }
   ],
   "source": [
    "#### CONTAGEM DE TRIPLAS USANDO DCTERMS:RIGHTS NO PUBINFO ####\n",
    "query = \"\"\"\n",
    "PREFIX np: <http://www.nanopub.org/nschema#>\n",
    "PREFIX dcterms: <http://purl.org/dc/terms/>\n",
    "select (count(*) as ?count)\n",
    "where {\n",
    "  graph ?h {\n",
    "    ?np a np:Nanopublication .\n",
    "    ?np np:hasPublicationInfo ?pubinfo .\n",
    "  }\n",
    "  graph ?pubinfo {\n",
    "        ?np (dcterms:rights) ?rights .\n",
    "  }\n",
    "}\n",
    "\"\"\"\n",
    "\n",
    "results = queryWP(query)\n",
    "wpNumRights = get_array(results)\n",
    "print(wpNumRights)"
   ]
  },
  {
   "cell_type": "code",
   "execution_count": 49,
   "metadata": {},
   "outputs": [
    {
     "name": "stdout",
     "output_type": "stream",
     "text": [
      "http://creativecommons.org/publicdomain/zero/1.0/\n",
      "---------------------------\n",
      "http://creativecommons.org/publicdomain/zero/1.0/: 16247\n"
     ]
    }
   ],
   "source": [
    "#### LISTA OS VALORES DO DCTERMS:RIGHTS NO PUBINFO E CONTA QUANTOS CADA UM ####\n",
    "query = \"\"\"\n",
    "PREFIX np: <http://www.nanopub.org/nschema#>\n",
    "PREFIX dcterms: <http://purl.org/dc/terms/>\n",
    "select ?rights (count(?rights) as ?count)\n",
    "where {\n",
    "  graph ?h {\n",
    "    ?np a np:Nanopublication .\n",
    "    ?np np:hasPublicationInfo ?pubinfo .\n",
    "  }\n",
    "  graph ?pubinfo {\n",
    "        ?np (dcterms:rights) ?rights .\n",
    "  }\n",
    "}\n",
    "GROUP BY ?rights\n",
    "\"\"\"\n",
    "\n",
    "results = queryWP(query)\n",
    "wpRightsCont = get_array(results)\n",
    "#print(results)\n",
    "\n",
    "for result in results[\"results\"][\"bindings\"]:\n",
    "    print(result[\"rights\"][\"value\"])\n",
    "\n",
    "print('---------------------------')\n",
    "\n",
    "for result in results[\"results\"][\"bindings\"]:\n",
    "    print('%s: %s' % (result[\"rights\"][\"value\"], result[\"count\"][\"value\"]))"
   ]
  },
  {
   "cell_type": "code",
   "execution_count": null,
   "metadata": {},
   "outputs": [],
   "source": [
    "# Exibição do resultado em grafico de pizza\n",
    "dataSud_RM_SB = df_merge_sudeste_rm['paciente_enumSexoBiologico'].value_counts()\n",
    "labels = ['F', 'M']\n",
    "# graficos\n",
    "fig, ax = plt.subplots()\n",
    "ax.pie(dataSud_RM_SB, labels=labels, autopct='%1.2f%%')\n",
    "ax.axis('equal') # mantenha um circulo\n",
    "fig.suptitle(\"Sexo Biológico dos Vacinados - Região Sudeste Metropolitana\");"
   ]
  },
  {
   "cell_type": "code",
   "execution_count": 14,
   "metadata": {},
   "outputs": [
    {
     "name": "stdout",
     "output_type": "stream",
     "text": [
      "[0]\n"
     ]
    }
   ],
   "source": [
    "#### CONTAGEM DE TRIPLAS USANDO DCTERMS:LICENSE NO PUBINFO ####\n",
    "query = \"\"\"\n",
    "PREFIX np: <http://www.nanopub.org/nschema#>\n",
    "PREFIX dcterms: <http://purl.org/dc/terms/>\n",
    "select (count(*) as ?count)\n",
    "where {\n",
    "  graph ?h {\n",
    "    ?np a np:Nanopublication .\n",
    "    ?np np:hasPublicationInfo ?pubinfo .\n",
    "  }\n",
    "  graph ?pubinfo {\n",
    "        ?np (dcterms:licence) ?licence .\n",
    "  }\n",
    "}\n",
    "\"\"\"\n",
    "\n",
    "results = queryWP(query)\n",
    "wpNumLicence = get_array(results)\n",
    "print(wpNumLicence)"
   ]
  },
  {
   "cell_type": "markdown",
   "metadata": {},
   "source": [
    "## DisGeNET Distribution ##"
   ]
  },
  {
   "cell_type": "markdown",
   "metadata": {},
   "source": [
    "### [DisGeNet](http://www.disgenet.org/) ###\n",
    "DisGeNET is a discovery platform containing one of the largest publicly available collections of genes and variants associated to human diseases ([Piñero et al., 2016](https://academic.oup.com/nar/article/45/D1/D833/2290909); [Piñero et al., 2015](https://www.ncbi.nlm.nih.gov/pubmed/25877637)). DisGeNET integrates data from expert curated repositories, GWAS catalogues, animal models and the scientific literature. DisGeNET data are homogeneously annotated with controlled vocabularies and community-driven ontologies. Additionally, several original metrics are provided to assist the prioritization of genotype–phenotype relationships.\n",
    "\n",
    "The current version of DisGeNET (v6.0) contains 628,685 gene-disease associations (GDAs), between 17,549 genes and 24,166 diseases, disorders, traits, and clinical or abnormal human phenotypes, and 210,498 variant-disease associations (VDAs), between 117,337 variants and 10,358 diseases, traits, and phenotypes.\n",
    "\n",
    "We are using two versions of nanopublication one is V3.0 and V4.0. For nanopublication triple anaylses we use V4.0 and upload this dataset on Virtuoso. For comperision between assertion graphs in V4 and V3 we are using Fuseki server. "
   ]
  },
  {
   "cell_type": "code",
   "execution_count": 8,
   "metadata": {},
   "outputs": [],
   "source": [
    "# The following query represent the triple's count of each head graph\n",
    "query = \"\"\"\n",
    "prefix np: <http://www.nanopub.org/nschema#>\n",
    "\n",
    "select (count(*) as ?count) \n",
    "from NAMED <http://localhost:3030/DisGeNET/>\n",
    "where {\n",
    "  {\n",
    "    graph ?G {?h a np:Nanopublication .\n",
    "              }\n",
    "   } \n",
    "  graph ?G {?S ?P ?O}\n",
    "} \n",
    "group by ?G\n",
    "\"\"\"\n",
    "\n",
    "results = queryDisGeNET(query)\n",
    "dgHeadTriples = get_array(results)"
   ]
  },
  {
   "cell_type": "code",
   "execution_count": 9,
   "metadata": {},
   "outputs": [],
   "source": [
    "query = \"\"\"\n",
    "    prefix np: <http://www.nanopub.org/nschema#>\n",
    "\n",
    "        select (count(*) as ?count) where {\n",
    "          graph ?h {\n",
    "            ?_np_iri a np:Nanopublication ;\n",
    "              np:hasAssertion ?a .\n",
    "          }\n",
    "          graph ?a {?s ?p ?o}\n",
    "        } \n",
    "        GROUP BY ?a\n",
    "    \"\"\"\n",
    "\n",
    "results = queryDisGeNET(query)\n",
    "dgAssertionTriples = get_array(results)"
   ]
  },
  {
   "cell_type": "code",
   "execution_count": 10,
   "metadata": {},
   "outputs": [],
   "source": [
    "# The following query represent the triple's count of each Provenance graph\n",
    "query = \"\"\"\n",
    "prefix np: <http://www.nanopub.org/nschema#>\n",
    "\n",
    "    select (count(*) as ?count) where {\n",
    "      graph ?h {\n",
    "        ?_np_iri a np:Nanopublication ;\n",
    "          np:hasProvenance ?prov .\n",
    "      }\n",
    "      graph ?prov {?s ?p ?o}\n",
    "    } \n",
    "    GROUP BY ?prov\n",
    "\"\"\"\n",
    "\n",
    "results = queryDisGeNET(query)\n",
    "dgProvenanceTriples = get_array(results)"
   ]
  },
  {
   "cell_type": "code",
   "execution_count": 11,
   "metadata": {},
   "outputs": [],
   "source": [
    "# The following query represent the triple's count of each Publication Information graph\n",
    "query = \"\"\"\n",
    "prefix np: <http://www.nanopub.org/nschema#>\n",
    "\n",
    "    select (count(*) as ?count) where {\n",
    "      graph ?h {\n",
    "        ?_np_iri a np:Nanopublication ;\n",
    "          np:hasPublicationInfo ?pubInfo .\n",
    "      }\n",
    "      graph ?pubInfo {?s ?p ?o}\n",
    "    } \n",
    "    GROUP BY ?pubInfo\n",
    "\"\"\"\n",
    "\n",
    "results = queryDisGeNET(query)\n",
    "dgPubInfoTriples = get_array(results)"
   ]
  },
  {
   "cell_type": "code",
   "execution_count": 12,
   "metadata": {},
   "outputs": [],
   "source": [
    "#Writing on the excel file. If you have already installed virtuoso and jena fuseki.\n",
    "with open('distributionDisGeNET.csv', mode='w') as csv_file:\n",
    "    fieldnames = ['Graphs', 'Triples']\n",
    "    writer = csv.writer(csv_file, delimiter=',', quotechar='\"', quoting=csv.QUOTE_MINIMAL)\n",
    "    \n",
    "    writer.writerow(['Graphs', 'Triples'])\n",
    "    \n",
    "    # For Head Graph\n",
    "    for t in dgHeadTriples:\n",
    "        writer.writerow(['Head', t])\n",
    "    \n",
    "    #For Assertion Graph\n",
    "    for t in dgAssertionTriples:\n",
    "        writer.writerow(['Assertion', t])\n",
    "        \n",
    "    #For Provenance Graph\n",
    "    for t in dgProvenanceTriples:\n",
    "        writer.writerow(['Provenance', t])\n",
    "        \n",
    "    #For Publication Information Graph\n",
    "    for t in dgPubInfoTriples:\n",
    "        writer.writerow(['PublicationInfo', t])"
   ]
  },
  {
   "cell_type": "code",
   "execution_count": 13,
   "metadata": {},
   "outputs": [
    {
     "data": {
      "image/png": "[encoded data removed]",
      "text/plain": [
       "<Figure size 1152x595.44 with 1 Axes>"
      ]
     },
     "metadata": {},
     "output_type": "display_data"
    }
   ],
   "source": [
    "#Run this script if you have not installed virtuoso and jena fuseki\n",
    "dataDG = pd.read_csv('distributionDisGeNET.csv')\n",
    "\n",
    "sns.set(style=\"whitegrid\")\n",
    "sns.set(rc={'figure.figsize':(16,8.27)})\n",
    "ax = sns.boxplot(x=\"Graphs\", y=\"Triples\", hue=\"Graphs\", data=dataDG, palette=\"Set3\")\n",
    "ax.axes.set_title(\"DisGeNET Distribution\",fontsize=30)\n",
    "ax.set_ylim(0, 90);"
   ]
  },
  {
   "cell_type": "markdown",
   "metadata": {},
   "source": [
    "## OpenBel Small and Large Corpus Distribution "
   ]
  },
  {
   "cell_type": "markdown",
   "metadata": {},
   "source": [
    "### [OpenBEL](http://openbel.org/) ###\n",
    "\n",
    "The Biological Expression Language (BEL) is a language for representing scientific findings in the life sciences in a computable form. BEL is designed to represent scientific findings by capturing causal and correlative relationships in context, where context can include information about the biological and experimental system in which the relationships were observed, the supporting publications cited and the curation process used.\n",
    "\n",
    "74173 nanopublications. These nanopubs were automatically converted from OpenBEL's Small/Large Corpus version 20131211.\n",
    "\n",
    "#### [Summary of Large and Small BEL Corpora](https://wiki.openbel.org/display/home/Summary+of+Large+and+Small+BEL+Corpora) ####\n",
    "\n",
    "The primary intent for the small and large corpus is to provide a public source of examples of knowledge representation in BEL.\n",
    "\n",
    "##### Small Corpus #####\n",
    "The small corpus is primarily derived from full-text articles including abstract and caption text, but not derived from tables or diagrams. The small corpus comprises approximately 2000 BEL statements manually curated from 57 articles listed in PubMed of related topics. There are around 800 unique evidences and ~1700 causal statements. These BEL statements represent observations from experiments performed in human, mouse, and rat.\n",
    "\n",
    "##### Large Corpus #####\n",
    "The large corpus is a subset of the Selventa Knowledgebase, consisting of approximately 80,000 BEL statements from ~16300 citations. This corpus does not include statements extracted from tables or high throughput experiments, and corresponding citations have not necessarily been fully curated like in the small corpus. The statements are a collection of independent observations that were not selected to represent any specific biological process(es) or signaling pathway(s). Transcriptional control statements were selected in a balanced manner and protein signaling cascades were included in reasonable detail. There are ~59500 causal statements. These BEL statements represent observations from experiments performed in human, mouse and rat."
   ]
  },
  {
   "cell_type": "code",
   "execution_count": 23,
   "metadata": {},
   "outputs": [],
   "source": [
    "# The following query represent the triple's count of each head graph\n",
    "#Large Corpus\n",
    "query = \"\"\"\n",
    "   prefix np: <http://www.nanopub.org/nschema#>\n",
    "select (count(?h) as ?count) where {\n",
    "      graph ?h {\n",
    "        ?_np_iri a np:Nanopublication ;\n",
    "                  ?p ?o .\n",
    "       }\n",
    "    }\n",
    "GROUP BY ?h\n",
    "    \"\"\"\n",
    "\n",
    "results = queryOpenBellLarge(query)\n",
    "oblHeadTriples = get_array(results)\n",
    "\n",
    "#Small Corpus\n",
    "query = \"\"\"\n",
    "    prefix np: <http://www.nanopub.org/nschema#>\n",
    "select (count(?h) as ?count) where {\n",
    "      graph ?h {\n",
    "        ?_np_iri a np:Nanopublication ;\n",
    "                  ?p ?o .\n",
    "       }\n",
    "    }\n",
    "GROUP BY ?h\n",
    "    \"\"\"\n",
    "\n",
    "results = queryOpenBellSmall(query)\n",
    "obsHeadTriples = get_array(results)\n",
    "\n",
    "openBellHeadTriples = []\n",
    "openBellHeadTriples.extend(oblHeadTriples)\n",
    "openBellHeadTriples.extend(obsHeadTriples)\n",
    "openBellHeadTriples.sort()"
   ]
  },
  {
   "cell_type": "code",
   "execution_count": 24,
   "metadata": {},
   "outputs": [],
   "source": [
    "#Large Corpus\n",
    "query = \"\"\"\n",
    "    prefix np: <http://www.nanopub.org/nschema#>\n",
    "\n",
    "        select (count(*) as ?count) where {\n",
    "          graph ?h {\n",
    "            ?_np_iri a np:Nanopublication ;\n",
    "              np:hasAssertion ?a .\n",
    "          }\n",
    "          graph ?a {?s ?p ?o}\n",
    "        } \n",
    "        GROUP BY ?a\n",
    "    \"\"\"\n",
    "\n",
    "results = queryOpenBellLarge(query)\n",
    "oblAssertionTriples = get_array(results)\n",
    "\n",
    "#Small Corpus\n",
    "query = \"\"\"\n",
    "    prefix np: <http://www.nanopub.org/nschema#>\n",
    "\n",
    "        select (count(*) as ?count) where {\n",
    "          graph ?h {\n",
    "            ?_np_iri a np:Nanopublication ;\n",
    "              np:hasAssertion ?a .\n",
    "          }\n",
    "          graph ?a {?s ?p ?o}\n",
    "        } \n",
    "        GROUP BY ?a\n",
    "    \"\"\"\n",
    "\n",
    "results = queryOpenBellSmall(query)\n",
    "obsAssertionTriples = get_array(results)\n",
    "\n",
    "openBellAssertionTriples = []\n",
    "openBellAssertionTriples.extend(oblAssertionTriples)\n",
    "openBellAssertionTriples.extend(obsAssertionTriples)\n",
    "openBellAssertionTriples.sort()"
   ]
  },
  {
   "cell_type": "code",
   "execution_count": 25,
   "metadata": {},
   "outputs": [],
   "source": [
    "# The following query represent the triple's count of each Provenance graph\n",
    "query = \"\"\"\n",
    "prefix np: <http://www.nanopub.org/nschema#>\n",
    "\n",
    "    select (count(*) as ?count) where {\n",
    "      graph ?h {\n",
    "        ?_np_iri a np:Nanopublication ;\n",
    "          np:hasProvenance ?prov .\n",
    "      }\n",
    "      graph ?prov {?s ?p ?o}\n",
    "    } \n",
    "    GROUP BY ?prov\n",
    "\"\"\"\n",
    "\n",
    "results = queryOpenBellLarge(query)\n",
    "oblProvenanceTriples = get_array(results)\n",
    "\n",
    "#Small\n",
    "query = \"\"\"\n",
    "prefix np: <http://www.nanopub.org/nschema#>\n",
    "\n",
    "    select (count(*) as ?count) where {\n",
    "      graph ?h {\n",
    "        ?_np_iri a np:Nanopublication ;\n",
    "          np:hasProvenance ?prov .\n",
    "      }\n",
    "      graph ?prov {?s ?p ?o}\n",
    "    } \n",
    "    GROUP BY ?prov\n",
    "\"\"\"\n",
    "\n",
    "results = queryOpenBellSmall(query)\n",
    "obsProvenanceTriples = get_array(results)\n",
    "\n",
    "openBellProvenanceTriples = []\n",
    "openBellProvenanceTriples.extend(oblProvenanceTriples)\n",
    "openBellProvenanceTriples.extend(obsProvenanceTriples)\n",
    "openBellProvenanceTriples.sort()"
   ]
  },
  {
   "cell_type": "code",
   "execution_count": 26,
   "metadata": {},
   "outputs": [],
   "source": [
    "# The following query represent the triple's count of each Publication Information graph\n",
    "query = \"\"\"\n",
    "prefix np: <http://www.nanopub.org/nschema#>\n",
    "\n",
    "    select (count(*) as ?count) where {\n",
    "      graph ?h {\n",
    "        ?_np_iri a np:Nanopublication ;\n",
    "          np:hasPublicationInfo ?pubInfo .\n",
    "      }\n",
    "      graph ?pubInfo {?s ?p ?o}\n",
    "    } \n",
    "    GROUP BY ?pubInfo\n",
    "\"\"\"\n",
    "\n",
    "results = queryOpenBellLarge(query)\n",
    "oblPubInfoTriples = get_array(results)\n",
    "\n",
    "#Small \n",
    "query = \"\"\"\n",
    "prefix np: <http://www.nanopub.org/nschema#>\n",
    "\n",
    "    select (count(*) as ?count) where {\n",
    "      graph ?h {\n",
    "        ?_np_iri a np:Nanopublication ;\n",
    "          np:hasPublicationInfo ?pubInfo .\n",
    "      }\n",
    "      graph ?pubInfo {?s ?p ?o}\n",
    "    } \n",
    "    GROUP BY ?pubInfo\n",
    "\"\"\"\n",
    "\n",
    "results = queryOpenBellSmall(query)\n",
    "obsPubInfoTriples = get_array(results)\n",
    "\n",
    "openBellPubInfoTriples = []\n",
    "openBellPubInfoTriples.extend(oblPubInfoTriples)\n",
    "openBellPubInfoTriples.extend(obsPubInfoTriples)\n",
    "openBellPubInfoTriples.sort()"
   ]
  },
  {
   "cell_type": "code",
   "execution_count": 27,
   "metadata": {},
   "outputs": [],
   "source": [
    "#Writing on the excel file. If you have already installed virtuoso and jena fuseki.\n",
    "with open('distributionOpenBel.csv', mode='w') as csv_file:\n",
    "    fieldnames = ['Graphs', 'Triples']\n",
    "    writer = csv.writer(csv_file, delimiter=',', quotechar='\"', quoting=csv.QUOTE_MINIMAL)\n",
    "    \n",
    "    writer.writerow(['Graphs', 'Triples'])\n",
    "    \n",
    "    # For Head Graph\n",
    "    for t in openBellHeadTriples:\n",
    "        writer.writerow(['Head', t])\n",
    "    \n",
    "    #For Assertion Graph\n",
    "    for t in openBellAssertionTriples:\n",
    "        writer.writerow(['Assertion', t])\n",
    "        \n",
    "    #For Provenance Graph\n",
    "    for t in openBellProvenanceTriples:\n",
    "        writer.writerow(['Provenance', t])\n",
    "        \n",
    "    #For Publication Information Graph\n",
    "    for t in openBellPubInfoTriples:\n",
    "        writer.writerow(['PublicationInfo', t])"
   ]
  },
  {
   "cell_type": "code",
   "execution_count": 28,
   "metadata": {},
   "outputs": [
    {
     "data": {
      "image/png": "[encoded data removed]",
      "text/plain": [
       "<Figure size 1152x595.44 with 1 Axes>"
      ]
     },
     "metadata": {},
     "output_type": "display_data"
    }
   ],
   "source": [
    "#Run this script if you have not installed virtuoso and jena fuseki\n",
    "dataOB = pd.read_csv('distributionOpenBel.csv')\n",
    "\n",
    "sns.set(style=\"whitegrid\")\n",
    "sns.set(rc={'figure.figsize':(16,8.27)})\n",
    "ax = sns.boxplot(x=\"Graphs\", y=\"Triples\", hue=\"Graphs\", data=dataOB, palette=\"Set3\")\n",
    "ax.axes.set_title(\"OpenBel Small and Large Corpus Distribution\",fontsize=30)\n",
    "ax.set_ylim(0, 90);"
   ]
  },
  {
   "cell_type": "markdown",
   "metadata": {},
   "source": [
    "## LInked Drug-Drug Interactions Distribution "
   ]
  },
  {
   "cell_type": "markdown",
   "metadata": {},
   "source": [
    "### [LIDDI](https://arxiv.org/abs/1507.05408) ###\n",
    "\n",
    "LInked Drug-Drug Interactions (LIDDI), a public nanopublication-based RDF dataset with trusty URIs that encompasses some of the most cited prediction methods and sources to provide researchers a resource for leveraging the work of others into their prediction methods. As one of the main issues to overcome the usage of external resources is their mappings between drug names and identifiers used, we also provide the set of mappings we curated to be able to compare the multiple sources we aggregate in our dataset.\n",
    "\n",
    "98085 nanopublications. This dataset combines data on drug-drug interactions from different sources, and formats them as nanopublications. The version we are using [V1.02](https://github.com/jmbanda/LInked-Drug-Drug-Interactions) and the author of this dataset is Juan M. Banda who created this dataset in July 20, 2015."
   ]
  },
  {
   "cell_type": "code",
   "execution_count": 29,
   "metadata": {},
   "outputs": [],
   "source": [
    "# The following query represent the triple's count of each head graph\n",
    "query = \"\"\"\n",
    "prefix np: <http://www.nanopub.org/nschema#>\n",
    "select (count(?h) as ?count) where {\n",
    "      graph ?h {\n",
    "        ?_np_iri a np:Nanopublication ;\n",
    "                  ?p ?o .\n",
    "       }\n",
    "    }\n",
    "GROUP BY ?h\n",
    "\"\"\"\n",
    "\n",
    "results = queryLIDDI(query)\n",
    "liddiHeadTriples = get_array(results)"
   ]
  },
  {
   "cell_type": "code",
   "execution_count": 30,
   "metadata": {},
   "outputs": [],
   "source": [
    "# The following query represent the triple's count of each assertion graph\n",
    "query = \"\"\"\n",
    "prefix np: <http://www.nanopub.org/nschema#>\n",
    "\n",
    "    select (count(*) as ?count) where {\n",
    "      graph ?h {\n",
    "        ?_np_iri a np:Nanopublication ;\n",
    "          np:hasAssertion ?a .\n",
    "      }\n",
    "      graph ?a {?s ?p ?o}\n",
    "    } \n",
    "    GROUP BY ?a\n",
    "\"\"\"\n",
    "\n",
    "results = queryLIDDI(query)\n",
    "liddiAssertionTriples = get_array(results)"
   ]
  },
  {
   "cell_type": "code",
   "execution_count": 31,
   "metadata": {},
   "outputs": [],
   "source": [
    "# The following query represent the triple's count of each Provenance graph\n",
    "query = \"\"\"\n",
    "prefix np: <http://www.nanopub.org/nschema#>\n",
    "\n",
    "    select (count(*) as ?count) where {\n",
    "      graph ?h {\n",
    "        ?_np_iri a np:Nanopublication ;\n",
    "          np:hasProvenance ?prov .\n",
    "      }\n",
    "      graph ?prov {?s ?p ?o}\n",
    "    } \n",
    "    GROUP BY ?prov\n",
    "\"\"\"\n",
    "\n",
    "results = queryLIDDI(query)\n",
    "liddiProvenanceTriples = get_array(results)"
   ]
  },
  {
   "cell_type": "code",
   "execution_count": 32,
   "metadata": {},
   "outputs": [],
   "source": [
    "# The following query represent the triple's count of each Provenance graph\n",
    "query = \"\"\"\n",
    "prefix np: <http://www.nanopub.org/nschema#>\n",
    "\n",
    "    select (count(*) as ?count) where {\n",
    "      graph ?h {\n",
    "        ?_np_iri a np:Nanopublication ;\n",
    "          np:hasPublicationInfo ?pubInfo .\n",
    "      }\n",
    "      graph ?pubInfo {?s ?p ?o}\n",
    "    } \n",
    "    GROUP BY ?pubInfo\n",
    "\"\"\"\n",
    "\n",
    "results = queryLIDDI(query)\n",
    "liddiPubInfoTriples = get_array(results)"
   ]
  },
  {
   "cell_type": "code",
   "execution_count": 33,
   "metadata": {},
   "outputs": [],
   "source": [
    "#Writing on the excel file. If you have already installed virtuoso and jena fuseki.\n",
    "with open('distributionLIDD.csv', mode='w') as csv_file:\n",
    "    fieldnames = ['Graphs', 'Triples']\n",
    "    writer = csv.writer(csv_file, delimiter=',', quotechar='\"', quoting=csv.QUOTE_MINIMAL)\n",
    "    \n",
    "    writer.writerow(['Graphs', 'Triples'])\n",
    "    \n",
    "    # For Head Graph\n",
    "    for t in liddiHeadTriples:\n",
    "        writer.writerow(['Head', t])\n",
    "    \n",
    "    #For Assertion Graph\n",
    "    for t in liddiAssertionTriples:\n",
    "        writer.writerow(['Assertion', t])\n",
    "        \n",
    "    #For Provenance Graph\n",
    "    for t in liddiProvenanceTriples:\n",
    "        writer.writerow(['Provenance', t])\n",
    "        \n",
    "    #For Publication Information Graph\n",
    "    for t in liddiPubInfoTriples:\n",
    "        writer.writerow(['PublicationInfo', t])"
   ]
  },
  {
   "cell_type": "code",
   "execution_count": 34,
   "metadata": {},
   "outputs": [
    {
     "data": {
      "image/png": "[encoded data removed]",
      "text/plain": [
       "<Figure size 1152x595.44 with 1 Axes>"
      ]
     },
     "metadata": {},
     "output_type": "display_data"
    }
   ],
   "source": [
    "#Run this script if you have not installed virtuoso and jena fuseki\n",
    "dataLiddi = pd.read_csv('distributionLIDD.csv')\n",
    "\n",
    "sns.set(style=\"whitegrid\")\n",
    "sns.set(rc={'figure.figsize':(16,8.27)})\n",
    "ax = sns.boxplot(x=\"Graphs\", y=\"Triples\", hue=\"Graphs\", data=dataLiddi, palette=\"Set3\")\n",
    "ax.axes.set_title(\"LInked Drug-Drug Interactions (LIDDI) Distribution\",fontsize=30)\n",
    "ax.set_ylim(0, 90);"
   ]
  },
  {
   "cell_type": "markdown",
   "metadata": {},
   "source": [
    "## All Datasets in One Picture ##"
   ]
  },
  {
   "cell_type": "code",
   "execution_count": 14,
   "metadata": {},
   "outputs": [],
   "source": [
    "with open('distributionAll.csv', mode='w') as csv_file:\n",
    "    fieldnames = ['DataSets', 'Graphs', 'Triples']\n",
    "    writer = csv.writer(csv_file, delimiter=',', quotechar='\"', quoting=csv.QUOTE_MINIMAL)\n",
    "    \n",
    "    writer.writerow(['DataSets', 'Graphs', 'Triples'])\n",
    "    \n",
    "    # For NeXtProt DataSet\n",
    "    for t in nxtHeadTriples:\n",
    "        writer.writerow(['neXtProt 19001_20000', 'Head', t])\n",
    "    for t in nxtAssertionTriples:\n",
    "        writer.writerow(['neXtProt 19001_20000', 'Assertion', t])\n",
    "    for t in nxtProvenanceTriples:\n",
    "        writer.writerow(['neXtProt 19001_20000', 'Provenance', t])\n",
    "    for t in nxtPubInfoTriples:\n",
    "        writer.writerow(['neXtProt 19001_20000', 'PublicationInfo', t])\n",
    "    \n",
    "    #For Wikipathways dataset\n",
    "    for t in wpHeadTriples:\n",
    "        writer.writerow(['WikiPathways 20170513', 'Head', t])\n",
    "    for t in wpAssertionTriples:\n",
    "        writer.writerow(['WikiPathways 20170513', 'Assertion', t])\n",
    "    for t in wpProvenanceTriples:\n",
    "        writer.writerow(['WikiPathways 20170513', 'Provenance', t])\n",
    "    for t in wpPubInfoTriples:\n",
    "        writer.writerow(['WikiPathways 20170513', 'PublicationInfo', t])\n",
    "        \n",
    "    #For DisGeNet Dataset\n",
    "    for t in dgHeadTriples:\n",
    "        writer.writerow(['DisGeNET 4.0', 'Head', t])\n",
    "    for t in dgAssertionTriples:\n",
    "        writer.writerow(['DisGeNET 4.0', 'Assertion', t])\n",
    "    for t in dgProvenanceTriples:\n",
    "        writer.writerow(['DisGeNET 4.0', 'Provenance', t])\n",
    "    for t in dgPubInfoTriples:\n",
    "        writer.writerow(['DisGeNET 4.0', 'PublicationInfo', t])\n",
    "        \n",
    "    #For OpenBell Dataset\n",
    "    for t in openBellHeadTriples:\n",
    "        writer.writerow(['OpenBell 20131211', 'Head', t])\n",
    "    for t in openBellAssertionTriples:\n",
    "        writer.writerow(['OpenBell 20131211', 'Assertion', t])\n",
    "    for t in openBellProvenanceTriples:\n",
    "        writer.writerow(['OpenBell 20131211', 'Provenance', t])\n",
    "    for t in openBellPubInfoTriples:\n",
    "        writer.writerow(['OpenBell 20131211', 'PublicationInfo', t])\n",
    "        \n",
    "    #For LIDDI Dataset\n",
    "    for t in liddiHeadTriples:\n",
    "        writer.writerow(['LIDDI V1.02', 'Head', t])\n",
    "    for t in liddiAssertionTriples:\n",
    "        writer.writerow(['LIDDI V1.02', 'Assertion', t])\n",
    "    for t in liddiProvenanceTriples:\n",
    "        writer.writerow(['LIDDI V1.02', 'Provenance', t])\n",
    "    for t in liddiPubInfoTriples:\n",
    "        writer.writerow(['LIDDI V1.02', 'PublicationInfo', t])"
   ]
  },
  {
   "cell_type": "code",
   "execution_count": 16,
   "metadata": {},
   "outputs": [
    {
     "data": {
      "image/png": "[encoded data removed]",
      "text/plain": [
       "<Figure size 1224x648 with 1 Axes>"
      ]
     },
     "metadata": {},
     "output_type": "display_data"
    }
   ],
   "source": [
    "dataAll = pd.read_csv('distributionAll.csv')\n",
    "\n",
    "sns.set(rc={'figure.figsize':(17,9)})\n",
    "sns.set(style=\"whitegrid\")\n",
    "ax = sns.boxplot(x=\"DataSets\", y=\"Triples\", hue=\"Graphs\", data=dataAll, palette=\"Set3\")\n",
    "#ax.axes.set_title(\"Frequency distribution of the number of triples in each graph of a nanopublication\\n\",fontsize=25)\n",
    "ax.axes.set_xlabel('--------------------------\\nDatasets', fontsize=14)\n",
    "\n",
    "#the y-axis is cut-off at a count of 90. The WikiPathways nanopublications include up to 1,001 triples in the assertion graph.\n",
    "ax.set_ylim(0, 90);"
   ]
  },
  {
   "cell_type": "code",
   "execution_count": 5,
   "metadata": {},
   "outputs": [
    {
     "data": {
      "text/plain": [
       "Text(0.5, 0, '--------------------------\\nDatasets')"
      ]
     },
     "execution_count": 5,
     "metadata": {},
     "output_type": "execute_result"
    },
    {
     "data": {
      "image/png": "[encoded data removed]",
      "text/plain": [
       "<Figure size 1224x648 with 1 Axes>"
      ]
     },
     "metadata": {},
     "output_type": "display_data"
    }
   ],
   "source": [
    "#Include graphs without y-axis cutoff at 90\n",
    "dataAll = pd.read_csv('distributionAll.csv')\n",
    "\n",
    "sns.set(rc={'figure.figsize':(17,9)})\n",
    "sns.set(style=\"whitegrid\")\n",
    "ax = sns.boxplot(x=\"DataSets\", y=\"Triples\", hue=\"Graphs\", data=dataAll, palette=\"Set3\")\n",
    "#ax.axes.set_title(\"Frequency distribution of the number of triples in each graph of a nanopublication\\n\",fontsize=25)\n",
    "ax.axes.set_xlabel('--------------------------\\nDatasets', fontsize=14)"
   ]
  },
  {
   "cell_type": "markdown",
   "metadata": {},
   "source": [
    "## Average Triples Count "
   ]
  },
  {
   "cell_type": "code",
   "execution_count": 51,
   "metadata": {},
   "outputs": [
    {
     "data": {
      "text/plain": [
       "Text(0, 0.5, 'Average Triples Count')"
      ]
     },
     "execution_count": 51,
     "metadata": {},
     "output_type": "execute_result"
    },
    {
     "data": {
      "image/png": "[encoded data removed]",
      "text/plain": [
       "<Figure size 1152x595.44 with 1 Axes>"
      ]
     },
     "metadata": {},
     "output_type": "display_data"
    }
   ],
   "source": [
    "nxtHeadTriplesAvg = average(nxtHeadTriples)\n",
    "nxtAssertionTriplesAvg = average(nxtAssertionTriples)\n",
    "nxtProvenanceTriplesAvg = average(nxtProvenanceTriples)\n",
    "nxtPubInfoTriplesAvg = average(nxtPubInfoTriples)\n",
    "\n",
    "wpHeadTriplesAvg = average(wpHeadTriples)\n",
    "wpAssertionTriplesAvg = average(wpAssertionTriples)\n",
    "wpProvenanceTriplesAvg = average(wpProvenanceTriples)\n",
    "wpPubInfoTriplesAvg = average(wpPubInfoTriples)\n",
    "\n",
    "dgHeadTriplesAvg = average(dgHeadTriples)\n",
    "dgAssertionTriplesAvg = average(dgAssertionTriples)\n",
    "dgProvenanceTriplesAvg = average(dgProvenanceTriples)\n",
    "dgPubInfoTriplesAvg = average(dgPubInfoTriples)\n",
    "\n",
    "\n",
    "openBellHeadTriplesAvg = average(openBellHeadTriples)\n",
    "openBellAssertionTriplesAvg = average(openBellAssertionTriples)\n",
    "openBellProvenanceTriplesAvg = average(openBellProvenanceTriples)\n",
    "openBellPubInfoTriplesAvg = average(openBellPubInfoTriples)\n",
    "\n",
    "\n",
    "liddiHeadTriplesAvg = average(liddiHeadTriples)\n",
    "liddiAssertionTriplesAvg = average(liddiAssertionTriples)\n",
    "liddiProvenanceTriplesAvg = average(liddiProvenanceTriples)\n",
    "liddiPubInfoTriplesAvg = average(liddiPubInfoTriples)\n",
    "\n",
    "\n",
    "\n",
    "df = pd.DataFrame(columns=[\"Dataset\",\"Graph\",\"Triples\"], \n",
    "                  data=[['neXtProt 19001_20000', 'Head', nxtHeadTriplesAvg],\n",
    "                        ['neXtProt 19001_20000', 'Assertion', nxtAssertionTriplesAvg],\n",
    "                        ['neXtProt 19001_20000', 'Provenance', nxtProvenanceTriplesAvg],\n",
    "                        ['neXtProt 19001_20000', 'PublicationInfo', nxtPubInfoTriplesAvg],\n",
    "                        ['Wikipathway 20170513', 'Head', wpHeadTriplesAvg],\n",
    "                        ['Wikipathway 20170513', 'Assertion', wpAssertionTriplesAvg],\n",
    "                        ['Wikipathway 20170513', 'Provenance', wpProvenanceTriplesAvg],\n",
    "                        ['Wikipathway 20170513', 'PublicationInfo', wpPubInfoTriplesAvg],\n",
    "                        ['DisGeNET v4.0', 'Head', dgHeadTriplesAvg],\n",
    "                        ['DisGeNET v4.0', 'Assertion', dgAssertionTriplesAvg],\n",
    "                        ['DisGeNET v4.0', 'Provenance', dgProvenanceTriplesAvg],\n",
    "                        ['DisGeNET v4.0', 'PublicationInfo', dgPubInfoTriplesAvg],\n",
    "                        ['OpenBEL 20131211', 'Head', openBellHeadTriplesAvg],\n",
    "                        ['OpenBEL 20131211', 'Assertion', openBellAssertionTriplesAvg],\n",
    "                        ['OpenBEL 20131211', 'Provenance', openBellProvenanceTriplesAvg],\n",
    "                        ['OpenBEL 20131211', 'PublicationInfo', openBellPubInfoTriplesAvg],\n",
    "                        ['LIDDI V1.02', 'Head', liddiHeadTriplesAvg],\n",
    "                        ['LIDDI V1.02', 'Assertion', liddiAssertionTriplesAvg],\n",
    "                        ['LIDDI V1.02', 'Provenance', liddiProvenanceTriplesAvg],\n",
    "                        ['LIDDI V1.02', 'PublicationInfo', liddiPubInfoTriplesAvg]\n",
    "                        ])\n",
    "\n",
    "sns.set(style=\"whitegrid\")\n",
    "\n",
    "ax = sns.barplot(x=\"Dataset\", y=\"Triples\", hue=\"Graph\", data=df, ci='sd', palette=\"muted\")\n",
    "ax.axes.set_xlabel('--------------------------\\nDatasets', fontsize=14)\n",
    "ax.axes.set_ylabel('Average Triples Count', fontsize=14)\n"
   ]
  },
  {
   "cell_type": "markdown",
   "metadata": {},
   "source": [
    "## Head Graph for all Datasets"
   ]
  },
  {
   "cell_type": "code",
   "execution_count": 12,
   "metadata": {},
   "outputs": [],
   "source": [
    "with open('distributionHead.csv', mode='w') as csv_file:\n",
    "    fieldnames = ['DataSets', 'Triples']\n",
    "    writer = csv.writer(csv_file, delimiter=',', quotechar='\"', quoting=csv.QUOTE_MINIMAL)\n",
    "    \n",
    "    writer.writerow(['DataSets', 'Triples'])\n",
    "    \n",
    "    # For NeXtProt DataSet\n",
    "    for t in nxtHeadTriples:\n",
    "        writer.writerow(['neXtProt 19001_20000', t])\n",
    "        \n",
    "    #For Wikipathways dataset\n",
    "    for t in wpHeadTriples:\n",
    "        writer.writerow(['Wikipathway 20170513', t])\n",
    "        \n",
    "    #For DisGeNet Dataset\n",
    "    for t in dgHeadTriples:\n",
    "        writer.writerow(['DisGeNET v4.0', t])\n",
    "        \n",
    "    #For OpenBell Dataset\n",
    "    for t in openBellHeadTriples:\n",
    "        writer.writerow(['OpenBEL 20131211', t])\n",
    "        \n",
    "    #For LIDDI Dataset\n",
    "    for t in liddiHeadTriples:\n",
    "        writer.writerow(['LIDDI V1.02', t])"
   ]
  },
  {
   "cell_type": "code",
   "execution_count": 13,
   "metadata": {},
   "outputs": [
    {
     "data": {
      "text/plain": [
       "Text(0.5, 0, '--------------------------\\nDatasets')"
      ]
     },
     "execution_count": 13,
     "metadata": {},
     "output_type": "execute_result"
    },
    {
     "data": {
      "image/png": "[encoded data removed]",
      "text/plain": [
       "<Figure size 1152x595.44 with 1 Axes>"
      ]
     },
     "metadata": {},
     "output_type": "display_data"
    }
   ],
   "source": [
    "dataAssertions = pd.read_csv('distributionHead.csv')\n",
    "\n",
    "sns.set(style=\"whitegrid\")\n",
    "#sns.set(rc={'figure.figsize':(16,8.27)})\n",
    "ax = sns.boxplot(x=\"DataSets\", y=\"Triples\", data=dataAssertions, palette=\"Set3\")\n",
    "ax.axes.set_xlabel('--------------------------\\nDatasets', fontsize=14)\n",
    "#ax.axes.set_title(\"Head Graph Distribution\",fontsize=30)\n",
    "#ax.set_ylim(0, 10);"
   ]
  },
  {
   "cell_type": "markdown",
   "metadata": {},
   "source": [
    "## Assertion Graph for all Datasets ##"
   ]
  },
  {
   "cell_type": "code",
   "execution_count": 16,
   "metadata": {},
   "outputs": [],
   "source": [
    "with open('distributionAssertion.csv', mode='w') as csv_file:\n",
    "    fieldnames = ['DataSets', 'Triples']\n",
    "    writer = csv.writer(csv_file, delimiter=',', quotechar='\"', quoting=csv.QUOTE_MINIMAL)\n",
    "    \n",
    "    writer.writerow(['DataSets', 'Triples'])\n",
    "    \n",
    "    # For NeXtProt DataSet\n",
    "    for t in nxtAssertionTriples:\n",
    "        writer.writerow(['neXtProt 19001_20000', t])\n",
    "        \n",
    "    #For Wikipathways dataset\n",
    "    for t in wpAssertionTriples:\n",
    "        writer.writerow(['Wikipathway 20170513', t])\n",
    "        \n",
    "    #For DisGeNet Dataset\n",
    "    for t in dgAssertionTriples:\n",
    "        writer.writerow(['DisGeNET v4.0', t])\n",
    "        \n",
    "    #For OpenBell Dataset\n",
    "    for t in openBellAssertionTriples:\n",
    "        writer.writerow(['OpenBEL 20131211', t])\n",
    "        \n",
    "    #For LIDDI Dataset\n",
    "    for t in liddiAssertionTriples:\n",
    "        writer.writerow(['LIDDI V1.02', t])\n",
    "    "
   ]
  },
  {
   "cell_type": "code",
   "execution_count": 17,
   "metadata": {},
   "outputs": [
    {
     "data": {
      "image/png": "[encoded data removed]",
      "text/plain": [
       "<Figure size 1152x595.44 with 1 Axes>"
      ]
     },
     "metadata": {},
     "output_type": "display_data"
    }
   ],
   "source": [
    "dataAssertions = pd.read_csv('distributionAssertion.csv')\n",
    "\n",
    "sns.set(style=\"whitegrid\")\n",
    "#sns.set(rc={'figure.figsize':(16,8.27)})\n",
    "ax = sns.boxplot(x=\"DataSets\", y=\"Triples\", data=dataAssertions, palette=\"Set3\")\n",
    "#ax.axes.set_title(\"Assertion Graph Distribution\",fontsize=30)\n",
    "ax.axes.set_xlabel('--------------------------\\nDatasets', fontsize=14)\n",
    "ax.set_ylim(0, 90);"
   ]
  },
  {
   "cell_type": "markdown",
   "metadata": {},
   "source": [
    "## Average and outliers"
   ]
  },
  {
   "cell_type": "code",
   "execution_count": 26,
   "metadata": {},
   "outputs": [
    {
     "name": "stdout",
     "output_type": "stream",
     "text": [
      "nextProt: 54457 2.0 avg.\n",
      "WP: 10998 8.0 avg.\n",
      "DisGeNET: 0 5.0 avg.\n",
      "OpenBel: 32311 11 avg.\n",
      "LIDDI: 345 7 avg.\n"
     ]
    }
   ],
   "source": [
    "\n",
    "\n",
    "# For NeXtProt DataSet\n",
    "avg = statistics.median(nxtAssertionTriples) #round(sum(nxtAssertionTriples) / len(nxtAssertionTriples), 2)\n",
    "#print(avg)\n",
    "outliers = 0\n",
    "for t in nxtAssertionTriples:\n",
    "    if t > avg:\n",
    "        outliers = outliers + 1\n",
    "print('nextProt: ' + str(outliers) + ' ' + str(avg) + ' avg.')\n",
    "\n",
    "# For Wikipathways DataSet\n",
    "avg = statistics.median(wpAssertionTriples) #round(sum(wpAssertionTriples) / len(wpAssertionTriples), 2)\n",
    "#print(avg)\n",
    "outliers = 0\n",
    "for t in wpAssertionTriples:\n",
    "    if t > avg:\n",
    "        outliers = outliers + 1\n",
    "print('WP: ' + str(outliers) + ' ' + str(avg) + ' avg.')\n",
    "\n",
    "# For DisGetNet DataSet\n",
    "avg = statistics.median(dgAssertionTriples) #round(sum(dgAssertionTriples) / len(dgAssertionTriples), 2)\n",
    "#print(avg)\n",
    "outliers = 0\n",
    "for t in dgAssertionTriples:\n",
    "    if t > avg:\n",
    "        outliers = outliers + 1\n",
    "print('DisGeNET: ' + str(outliers) + ' ' + str(avg) + ' avg.')\n",
    "\n",
    "# For OpenBEL DataSet\n",
    "avg = statistics.median(openBellAssertionTriples) #round(sum(openBellAssertionTriples) / len(openBellAssertionTriples), 2)\n",
    "#print(avg)\n",
    "outliers = 0\n",
    "for t in openBellAssertionTriples:\n",
    "    if t > avg:\n",
    "        outliers = outliers + 1\n",
    "print('OpenBel: ' + str(outliers) + ' ' + str(avg) + ' avg.')\n",
    "\n",
    "# For LIDDI DataSet\n",
    "avg = statistics.median(liddiAssertionTriples) #round(sum(liddiAssertionTriples) / len(liddiAssertionTriples), 2)\n",
    "#print(avg)\n",
    "outliers = 0\n",
    "for t in liddiAssertionTriples:\n",
    "    if t > avg:\n",
    "        outliers = outliers + 1\n",
    "print('LIDDI: ' + str(outliers) + ' ' + str(avg) + ' avg.')"
   ]
  },
  {
   "cell_type": "markdown",
   "metadata": {},
   "source": [
    "## Provenance Graph for all Datasets ##"
   ]
  },
  {
   "cell_type": "code",
   "execution_count": 18,
   "metadata": {},
   "outputs": [],
   "source": [
    "with open('distributionProvenance.csv', mode='w') as csv_file:\n",
    "    fieldnames = ['DataSets', 'Triples']\n",
    "    writer = csv.writer(csv_file, delimiter=',', quotechar='\"', quoting=csv.QUOTE_MINIMAL)\n",
    "    \n",
    "    writer.writerow(['DataSets', 'Triples'])\n",
    "    \n",
    "    # For NeXtProt DataSet\n",
    "    for t in nxtProvenanceTriples:\n",
    "        writer.writerow(['neXtProt 19001_20000', t])\n",
    "    \n",
    "    #For Wikipathways dataset\n",
    "    for t in wpProvenanceTriples:\n",
    "        writer.writerow(['Wikipathway 20170513', t])\n",
    "        \n",
    "    #For DisGeNet Dataset\n",
    "    for t in dgProvenanceTriples:\n",
    "        writer.writerow(['DisGeNET v4.0', t])\n",
    "        \n",
    "    #For OpenBell Dataset\n",
    "    for t in openBellProvenanceTriples:\n",
    "        writer.writerow(['OpenBEL 20131211', t])\n",
    "        \n",
    "    #For LIDDI Dataset\n",
    "    for t in liddiProvenanceTriples:\n",
    "        writer.writerow(['LIDDI V1.02', t])"
   ]
  },
  {
   "cell_type": "code",
   "execution_count": 19,
   "metadata": {},
   "outputs": [
    {
     "data": {
      "text/plain": [
       "Text(0.5, 0, '--------------------------\\nDatasets')"
      ]
     },
     "execution_count": 19,
     "metadata": {},
     "output_type": "execute_result"
    },
    {
     "data": {
      "image/png": "[encoded data removed]",
      "text/plain": [
       "<Figure size 1152x595.44 with 1 Axes>"
      ]
     },
     "metadata": {},
     "output_type": "display_data"
    }
   ],
   "source": [
    "dataProvenance = pd.read_csv('distributionProvenance.csv')\n",
    "\n",
    "sns.set(style=\"whitegrid\")\n",
    "#sns.set(rc={'figure.figsize':(16,8.27)})\n",
    "ax = sns.boxplot(x=\"DataSets\", y=\"Triples\", data=dataProvenance, palette=\"Set3\")\n",
    "#ax.axes.set_title(\"Provenance Graph Distribution\",fontsize=30)\n",
    "ax.axes.set_xlabel('--------------------------\\nDatasets', fontsize=14)\n",
    "#ax.set_ylim(0, 90);"
   ]
  },
  {
   "cell_type": "code",
   "execution_count": 27,
   "metadata": {},
   "outputs": [
    {
     "name": "stdout",
     "output_type": "stream",
     "text": [
      "nextProt: 91740 11.0 avg.\n",
      "WP: 8992 4.0 avg.\n",
      "DisGeNET: 0 9.0 avg.\n",
      "OpenBel: 2592 11 avg.\n",
      "LIDDI: 355 7 avg.\n"
     ]
    }
   ],
   "source": [
    "#Median and outliers\n",
    "# For NeXtProt DataSet\n",
    "avg = statistics.median(nxtProvenanceTriples) #round(sum(nxtAssertionTriples) / len(nxtAssertionTriples), 2)\n",
    "#print(avg)\n",
    "outliers = 0\n",
    "for t in nxtProvenanceTriples:\n",
    "    if t > avg:\n",
    "        outliers = outliers + 1\n",
    "print('nextProt: ' + str(outliers) + ' ' + str(avg) + ' avg.')\n",
    "\n",
    "# For Wikipathways DataSet\n",
    "avg = statistics.median(wpProvenanceTriples) #round(sum(wpAssertionTriples) / len(wpAssertionTriples), 2)\n",
    "#print(avg)\n",
    "outliers = 0\n",
    "for t in wpProvenanceTriples:\n",
    "    if t > avg:\n",
    "        outliers = outliers + 1\n",
    "print('WP: ' + str(outliers) + ' ' + str(avg) + ' avg.')\n",
    "\n",
    "# For DisGetNet DataSet\n",
    "avg = statistics.median(dgProvenanceTriples) #round(sum(dgAssertionTriples) / len(dgAssertionTriples), 2)\n",
    "#print(avg)\n",
    "outliers = 0\n",
    "for t in dgProvenanceTriples:\n",
    "    if t > avg:\n",
    "        outliers = outliers + 1\n",
    "print('DisGeNET: ' + str(outliers) + ' ' + str(avg) + ' avg.')\n",
    "\n",
    "# For OpenBEL DataSet\n",
    "avg = statistics.median(openBellProvenanceTriples) #round(sum(openBellAssertionTriples) / len(openBellAssertionTriples), 2)\n",
    "#print(avg)\n",
    "outliers = 0\n",
    "for t in openBellProvenanceTriples:\n",
    "    if t > avg:\n",
    "        outliers = outliers + 1\n",
    "print('OpenBel: ' + str(outliers) + ' ' + str(avg) + ' avg.')\n",
    "\n",
    "# For LIDDI DataSet\n",
    "avg = statistics.median(liddiProvenanceTriples) #round(sum(liddiAssertionTriples) / len(liddiAssertionTriples), 2)\n",
    "#print(avg)\n",
    "outliers = 0\n",
    "for t in liddiProvenanceTriples:\n",
    "    if t > avg:\n",
    "        outliers = outliers + 1\n",
    "print('LIDDI: ' + str(outliers) + ' ' + str(avg) + ' avg.')"
   ]
  },
  {
   "cell_type": "markdown",
   "metadata": {},
   "source": [
    "## Publication Information Graph for all Datasets ##"
   ]
  },
  {
   "cell_type": "code",
   "execution_count": 20,
   "metadata": {},
   "outputs": [],
   "source": [
    "with open('distributionPubInfo.csv', mode='w') as csv_file:\n",
    "    fieldnames = ['DataSets', 'Triples']\n",
    "    writer = csv.writer(csv_file, delimiter=',', quotechar='\"', quoting=csv.QUOTE_MINIMAL)\n",
    "    \n",
    "    writer.writerow(['DataSets', 'Triples'])\n",
    "    \n",
    "    # For NeXtProt DataSet\n",
    "    for t in nxtPubInfoTriples:\n",
    "        writer.writerow(['neXtProt 19001_20000', t])\n",
    "    \n",
    "    #For Wikipathways dataset\n",
    "    for t in wpPubInfoTriples:\n",
    "        writer.writerow(['Wikipathway 20170513', t])\n",
    "        \n",
    "    #For DisGeNet Dataset\n",
    "    for t in dgPubInfoTriples:\n",
    "        writer.writerow(['DisGeNET v4.0', t])\n",
    "        \n",
    "    #For OpenBell Dataset\n",
    "    for t in openBellPubInfoTriples:\n",
    "        writer.writerow(['OpenBEL 20131211', t])\n",
    "        \n",
    "    #For LIDDI Dataset\n",
    "    for t in liddiPubInfoTriples:\n",
    "        writer.writerow(['LIDDI V1.02', t])"
   ]
  },
  {
   "cell_type": "code",
   "execution_count": 21,
   "metadata": {},
   "outputs": [
    {
     "data": {
      "text/plain": [
       "Text(0.5, 0, '--------------------------\\nDatasets')"
      ]
     },
     "execution_count": 21,
     "metadata": {},
     "output_type": "execute_result"
    },
    {
     "data": {
      "image/png": "[encoded data removed]",
      "text/plain": [
       "<Figure size 1152x595.44 with 1 Axes>"
      ]
     },
     "metadata": {},
     "output_type": "display_data"
    }
   ],
   "source": [
    "dataPubInfo = pd.read_csv('distributionPubInfo.csv')\n",
    "\n",
    "sns.set(style=\"whitegrid\")\n",
    "#sns.set(rc={'figure.figsize':(16,8.27)})\n",
    "ax = sns.boxplot(x=\"DataSets\", y=\"Triples\", data=dataPubInfo, palette=\"Set3\")\n",
    "#ax.axes.set_title(\"Publication Information Graph Distribution\",fontsize=30)\n",
    "ax.axes.set_xlabel('--------------------------\\nDatasets', fontsize=14)\n",
    "#ax.set_ylim(0, 90);"
   ]
  },
  {
   "cell_type": "code",
   "execution_count": 28,
   "metadata": {},
   "outputs": [
    {
     "name": "stdout",
     "output_type": "stream",
     "text": [
      "nextProt: 88859 12.0 avg.\n",
      "WP: 1433 7.0 avg.\n",
      "DisGeNET: 0 13.0 avg.\n",
      "OpenBel: 0 3 avg.\n",
      "LIDDI: 0 3 avg.\n"
     ]
    }
   ],
   "source": [
    "#Median and outliers\n",
    "# For NeXtProt DataSet\n",
    "avg = statistics.median(nxtPubInfoTriples) #round(sum(nxtAssertionTriples) / len(nxtAssertionTriples), 2)\n",
    "#print(avg)\n",
    "outliers = 0\n",
    "for t in nxtPubInfoTriples:\n",
    "    if t > avg:\n",
    "        outliers = outliers + 1\n",
    "print('nextProt: ' + str(outliers) + ' ' + str(avg) + ' avg.')\n",
    "\n",
    "# For Wikipathways DataSet\n",
    "avg = statistics.median(wpPubInfoTriples) #round(sum(wpAssertionTriples) / len(wpAssertionTriples), 2)\n",
    "#print(avg)\n",
    "outliers = 0\n",
    "for t in wpPubInfoTriples:\n",
    "    if t > avg:\n",
    "        outliers = outliers + 1\n",
    "print('WP: ' + str(outliers) + ' ' + str(avg) + ' avg.')\n",
    "\n",
    "# For DisGetNet DataSet\n",
    "avg = statistics.median(dgPubInfoTriples) #round(sum(dgAssertionTriples) / len(dgAssertionTriples), 2)\n",
    "#print(avg)\n",
    "outliers = 0\n",
    "for t in dgPubInfoTriples:\n",
    "    if t > avg:\n",
    "        outliers = outliers + 1\n",
    "print('DisGeNET: ' + str(outliers) + ' ' + str(avg) + ' avg.')\n",
    "\n",
    "# For OpenBEL DataSet\n",
    "avg = statistics.median(openBellPubInfoTriples) #round(sum(openBellAssertionTriples) / len(openBellAssertionTriples), 2)\n",
    "#print(avg)\n",
    "outliers = 0\n",
    "for t in openBellPubInfoTriples:\n",
    "    if t > avg:\n",
    "        outliers = outliers + 1\n",
    "print('OpenBel: ' + str(outliers) + ' ' + str(avg) + ' avg.')\n",
    "\n",
    "# For LIDDI DataSet\n",
    "avg = statistics.median(liddiPubInfoTriples) #round(sum(liddiAssertionTriples) / len(liddiAssertionTriples), 2)\n",
    "#print(avg)\n",
    "outliers = 0\n",
    "for t in liddiPubInfoTriples:\n",
    "    if t > avg:\n",
    "        outliers = outliers + 1\n",
    "print('LIDDI: ' + str(outliers) + ' ' + str(avg) + ' avg.')"
   ]
  },
  {
   "cell_type": "markdown",
   "metadata": {},
   "source": [
    "## Authors Distribution in all datasets"
   ]
  },
  {
   "cell_type": "code",
   "execution_count": 16,
   "metadata": {},
   "outputs": [],
   "source": [
    "#Getting All authors from DisGetNET\n",
    "query = \"\"\"\n",
    "prefix np: <http://www.nanopub.org/nschema#>\n",
    "prefix npx: <http://purl.org/nanopub/x/>\n",
    "prefix pav: <http://purl.org/pav/>\n",
    "prefix prov: <http://www.w3.org/ns/prov#>\n",
    "\n",
    "select (count(distinct ?author) as ?count) where {\n",
    "  graph ?h {\n",
    "    ?np a np:Nanopublication .\n",
    "    ?np np:hasPublicationInfo ?pubinfo .\n",
    "  }\n",
    "  graph ?pubinfo {\n",
    "    ?np (pav:authoredBy) ?author .\n",
    "  }\n",
    "}GROUP By ?np\"\"\"\n",
    "\n",
    "results = queryDisGeNET(query)\n",
    "dgAuthors = get_array(results)"
   ]
  },
  {
   "cell_type": "code",
   "execution_count": 21,
   "metadata": {},
   "outputs": [],
   "source": [
    "#Getting All authors from neXtProt\n",
    "query = \"\"\"\n",
    "prefix np: <http://www.nanopub.org/nschema#>\n",
    "\n",
    "select (count(distinct ?author) as ?count) where {\n",
    "  graph ?h {\n",
    "    ?np a np:Nanopublication .\n",
    "    ?np np:hasPublicationInfo ?pubinfo .\n",
    "  }\n",
    "  graph ?pubinfo {\n",
    "    ?np <http://swan.mindinformatics.org/ontologies/1.2/pav/authoredBy> ?author .\n",
    "  }\n",
    "}GROUP By ?np\"\"\"\n",
    "\n",
    "results = queryNeXtProt(query)\n",
    "nxtAuthors = get_array(results)"
   ]
  },
  {
   "cell_type": "code",
   "execution_count": 23,
   "metadata": {},
   "outputs": [],
   "source": [
    "#Getting All authors from Wikipathways\n",
    "query = \"\"\"\n",
    "prefix np: <http://www.nanopub.org/nschema#>\n",
    "prefix npx: <http://purl.org/nanopub/x/>\n",
    "prefix pav: <http://purl.org/pav/>\n",
    "prefix prov: <http://www.w3.org/ns/prov#>\n",
    "\n",
    "select (count(distinct ?author) as ?count) where {\n",
    "  graph ?h {\n",
    "    ?np a np:Nanopublication .\n",
    "    ?np np:hasPublicationInfo ?pubinfo .\n",
    "  }\n",
    "  graph ?pubinfo {\n",
    "    ?np (pav:authoredBy) ?author .\n",
    "  }\n",
    "}GROUP By ?np\"\"\"\n",
    "\n",
    "results = queryWP(query)\n",
    "wikiAuthors = get_array(results)\n",
    "\n",
    "#Note: Wikipathways has no authors"
   ]
  },
  {
   "cell_type": "code",
   "execution_count": 56,
   "metadata": {},
   "outputs": [],
   "source": [
    "#Getting All authors from open bel large & small corpus\n",
    "query = \"\"\"\n",
    "prefix np: <http://www.nanopub.org/nschema#>\n",
    "prefix pav: <http://purl.org/pav/>\n",
    "\n",
    "select (count(distinct ?author) as ?count) where {\n",
    "  graph ?h {\n",
    "    ?np a np:Nanopublication .\n",
    "    ?np np:hasProvenance ?prov .\n",
    "  }\n",
    "  graph ?prov {\n",
    "    ?s (pav:authoredBy) ?author .\n",
    "  }\n",
    "}GROUP By ?np\"\"\"\n",
    "\n",
    "results = queryOpenBellLarge(query)\n",
    "belLargeAuthors = get_array(results)\n",
    "\n",
    "\n",
    "query = \"\"\"\n",
    "prefix np: <http://www.nanopub.org/nschema#>\n",
    "prefix pav: <http://purl.org/pav/>\n",
    "\n",
    "select (count(distinct ?author) as ?count) where {\n",
    "  graph ?h {\n",
    "    ?np a np:Nanopublication .\n",
    "    ?np np:hasProvenance ?prov .\n",
    "  }\n",
    "  graph ?prov {\n",
    "    ?s (pav:authoredBy) ?author .\n",
    "  }\n",
    "}GROUP By ?np\"\"\"\n",
    "\n",
    "results = queryOpenBellSmall(query)\n",
    "belSmallAuthors = get_array(results)\n",
    "\n",
    "\n",
    "openBellAuthors = []\n",
    "openBellAuthors.extend(belLargeAuthors)\n",
    "openBellAuthors.extend(belSmallAuthors)\n",
    "openBellAuthors.sort()"
   ]
  },
  {
   "cell_type": "code",
   "execution_count": 35,
   "metadata": {},
   "outputs": [],
   "source": [
    "# LIDDI has no authors beceause its Software Generated."
   ]
  },
  {
   "cell_type": "code",
   "execution_count": 57,
   "metadata": {},
   "outputs": [
    {
     "ename": "NameError",
     "evalue": "name 'nxtAuthors' is not defined",
     "output_type": "error",
     "traceback": [
      "\u001b[1;31m---------------------------------------------------------------------------\u001b[0m",
      "\u001b[1;31mNameError\u001b[0m                                 Traceback (most recent call last)",
      "\u001b[1;32m<ipython-input-57-368ac703422c>\u001b[0m in \u001b[0;36m<module>\u001b[1;34m\u001b[0m\n\u001b[0;32m      7\u001b[0m \u001b[1;33m\u001b[0m\u001b[0m\n\u001b[0;32m      8\u001b[0m     \u001b[1;31m# For NeXtProt DataSet\u001b[0m\u001b[1;33m\u001b[0m\u001b[1;33m\u001b[0m\u001b[1;33m\u001b[0m\u001b[0m\n\u001b[1;32m----> 9\u001b[1;33m     \u001b[1;32mfor\u001b[0m \u001b[0mt\u001b[0m \u001b[1;32min\u001b[0m \u001b[0mnxtAuthors\u001b[0m\u001b[1;33m:\u001b[0m\u001b[1;33m\u001b[0m\u001b[1;33m\u001b[0m\u001b[0m\n\u001b[0m\u001b[0;32m     10\u001b[0m         \u001b[0mwriter\u001b[0m\u001b[1;33m.\u001b[0m\u001b[0mwriterow\u001b[0m\u001b[1;33m(\u001b[0m\u001b[1;33m[\u001b[0m\u001b[1;34m'neXtProt 19001_20000'\u001b[0m\u001b[1;33m,\u001b[0m \u001b[0mt\u001b[0m\u001b[1;33m]\u001b[0m\u001b[1;33m)\u001b[0m\u001b[1;33m\u001b[0m\u001b[1;33m\u001b[0m\u001b[0m\n\u001b[0;32m     11\u001b[0m \u001b[1;33m\u001b[0m\u001b[0m\n",
      "\u001b[1;31mNameError\u001b[0m: name 'nxtAuthors' is not defined"
     ]
    }
   ],
   "source": [
    "# All Data in the csv File\n",
    "with open('distributionAuthors.csv', mode='w') as csv_file:\n",
    "    fieldnames = ['DataSets', 'Count']\n",
    "    writer = csv.writer(csv_file, delimiter=',', quotechar='\"', quoting=csv.QUOTE_MINIMAL)\n",
    "    \n",
    "    writer.writerow(['DataSets', 'Count'])\n",
    "    \n",
    "    # For NeXtProt DataSet\n",
    "    for t in nxtAuthors:\n",
    "        writer.writerow(['neXtProt 19001_20000', t])\n",
    "        \n",
    "    #For Wikipathways dataset\n",
    "    if (len(wikiAuthors) > 0):\n",
    "        for t in wikiAuthors:\n",
    "            writer.writerow(['WikiPathways 20170513', t])\n",
    "    else:\n",
    "        writer.writerow(['WikiPathways 20170513', 0])\n",
    "        \n",
    "    #For DisGeNet Dataset\n",
    "    for t in dgAuthors:\n",
    "        writer.writerow(['DisGeNET 4.0', t])\n",
    "        \n",
    "    #For OpenBell Dataset\n",
    "    for t in openBellAuthors:\n",
    "        writer.writerow(['OpenBell 20131211', t])\n",
    "        \n",
    "    #LIDDI\n",
    "    writer.writerow(['LIDDI V1.02', 0])"
   ]
  },
  {
   "cell_type": "code",
   "execution_count": 22,
   "metadata": {},
   "outputs": [
    {
     "data": {
      "text/plain": [
       "Text(0.5, 0, '--------------------------\\nDatasets')"
      ]
     },
     "execution_count": 22,
     "metadata": {},
     "output_type": "execute_result"
    },
    {
     "data": {
      "image/png": "[encoded data removed]",
      "text/plain": [
       "<Figure size 1152x595.44 with 1 Axes>"
      ]
     },
     "metadata": {},
     "output_type": "display_data"
    }
   ],
   "source": [
    "dataAuthors = pd.read_csv('distributionAuthors.csv')\n",
    "\n",
    "sns.set(style=\"whitegrid\")\n",
    "ax = sns.boxplot(x=\"DataSets\", y=\"Count\", data=dataAuthors, palette=\"Set3\")\n",
    "#ax.axes.set_title(\"Author Distribution\",fontsize=30)\n",
    "ax.axes.set_xlabel('--------------------------\\nDatasets', fontsize=14)\n",
    "#ax.set_ylim(0, 10);"
   ]
  },
  {
   "cell_type": "markdown",
   "metadata": {},
   "source": [
    "## Creators Distribution in all datasets"
   ]
  },
  {
   "cell_type": "code",
   "execution_count": 40,
   "metadata": {},
   "outputs": [],
   "source": [
    "#Getting All creators from DisGetNET\n",
    "query = \"\"\"\n",
    "prefix np: <http://www.nanopub.org/nschema#>\n",
    "prefix dct: <http://purl.org/dc/terms/>\n",
    "prefix dce: <http://purl.org/dc/elements/1.1/>\n",
    "prefix pav: <http://purl.org/pav/>\n",
    "\n",
    "select (count(distinct ?creator) as ?count) where {\n",
    "  graph ?h {\n",
    "    ?np a np:Nanopublication .\n",
    "    ?np np:hasPublicationInfo ?pubinfo .\n",
    "  }\n",
    "  graph ?pubinfo {\n",
    "    ?np (dct:creator|dce:creator|pav:createdBy) ?creator .\n",
    "  }\n",
    "}GROUP By ?np\"\"\"\n",
    "\n",
    "results = queryDisGeNET(query)\n",
    "dgCreators = get_array(results)"
   ]
  },
  {
   "cell_type": "code",
   "execution_count": 42,
   "metadata": {},
   "outputs": [],
   "source": [
    "#Getting All creators from neXtProt\n",
    "query = \"\"\"\n",
    "prefix np: <http://www.nanopub.org/nschema#>\n",
    "prefix dct: <http://purl.org/dc/terms/>\n",
    "prefix dce: <http://purl.org/dc/elements/1.1/>\n",
    "prefix pav: <http://purl.org/pav/>\n",
    "\n",
    "select (count(distinct ?creator) as ?count) where {\n",
    "  graph ?h {\n",
    "    ?np a np:Nanopublication .\n",
    "    ?np np:hasPublicationInfo ?pubinfo .\n",
    "  }\n",
    "  graph ?pubinfo {\n",
    "    ?np (dct:creator|dce:creator|pav:createdBy) ?creator .\n",
    "  }\n",
    "}GROUP By ?np\"\"\"\n",
    "\n",
    "results = queryNeXtProt(query)\n",
    "nxtCreators = get_array(results)\n",
    "\n",
    "# neXtProt has no creator \n",
    "# Describe Nanopublication\n",
    "#:NX_Q9UKF6-1_PTM-0207_2.RA-3WCl5c7ZO6xYamZ7X7jL0Ahfe3zQ2bBRH68P66hHUI\n",
    "#        a                      np:Nanopublication ;\n",
    "#        dcterms:created        \"2014-09-19T00:00:00Z\"^^xsd:dateTime ;\n",
    "#        dcterms:rights         <http://creativecommons.org/licenses/by/3.0/> ;\n",
    "#        dcterms:rightsHolder   <http://nextprot.org> ;\n",
    "#        prv:usedData           \"neXtProt database\" ;\n",
    "#        <http://swan.mindinformatics.org/ontologies/1.2/pav/authoredBy>\n",
    "#          \"CALIPHO project\" ;\n",
    "#        <http://swan.mindinformatics.org/ontologies/1.2/pav/authoredBy>\n",
    "#        <http://orcid.org/0000-0001-6710-1373> , <http://orcid.org/0000-0002-1303-2189> , <http://orcid.org/0000-0003-1813-6857> , <http://orcid.org/0000-0001-6818-334X> ;\n",
    "#        <http://swan.mindinformatics.org/ontologies/1.2/pav/versionNumber>\n",
    "#        \"1\" ;\n",
    "#      np:hasAssertion        <http://www.nextprot.org/nanopubs#NX_Q9UKF6-1_PTM-0207_2.RA-3WCl5c7ZO6xYamZ7X7jL0Ahfe3zQ2bBRH68P66hHUI#assertion> ;\n",
    "#      np:hasProvenance       <http://www.nextprot.org/nanopubs#NX_Q9UKF6-1_PTM-0207_2.RA-3WCl5c7ZO6xYamZ7X7jL0Ahfe3zQ2bBRH68P66hHUI#provenance> ;\n",
    "#      np:hasPublicationInfo  <http://www.nextprot.org/nanopubs#NX_Q9UKF6-1_PTM-0207_2.RA-3WCl5c7ZO6xYamZ7X7jL0Ahfe3zQ2bBRH68P66hHUI#pubinfo> ;\n",
    "#      prov:wasGeneratedBy    <http://www.nextprot.org/nanopubs#NX_Q9UKF6-1_PTM-0207_2.RA-3WCl5c7ZO6xYamZ7X7jL0Ahfe3zQ2bBRH68P66hHUI#_5> ."
   ]
  },
  {
   "cell_type": "code",
   "execution_count": 54,
   "metadata": {},
   "outputs": [],
   "source": [
    "#Getting All creators from Wikipathways\n",
    "query = \"\"\"\n",
    "prefix np: <http://www.nanopub.org/nschema#>\n",
    "prefix dct: <http://purl.org/dc/terms/>\n",
    "prefix dce: <http://purl.org/dc/elements/1.1/>\n",
    "prefix pav: <http://purl.org/pav/>\n",
    "\n",
    "select (count(distinct ?creator) as ?count) where {\n",
    "  graph ?h {\n",
    "    ?np a np:Nanopublication .\n",
    "    ?np np:hasPublicationInfo ?pubinfo .\n",
    "  }\n",
    "  graph ?pubinfo {\n",
    "    ?np (dct:creator|dce:creator|pav:createdBy) ?creator .\n",
    "  }\n",
    "}GROUP By ?np\"\"\"\n",
    "\n",
    "results = queryWP(query)\n",
    "wikiCreators = get_array(results)\n",
    "\n",
    "#Describe nanopublication\n",
    "#<http://purl.org/np/RASqUFyaiZdd8viHLNjoTtdv3SvoTJ-Qpx4DpfcXPHQSg>\n",
    "#        a                      np:Nanopublication ;\n",
    "#        dcterms:created        \"2017-05-08T15:57:43.151+02:00\"^^xsd:dateTime ;\n",
    "#        dcterms:rights         <https://creativecommons.org/licenses/by/3.0/> ;\n",
    "#        np:hasAssertion        <http://purl.org/np/RASqUFyaiZdd8viHLNjoTtdv3SvoTJ-Qpx4DpfcXPHQSg#assertion> ;\n",
    "#        np:hasProvenance       <http://purl.org/np/RASqUFyaiZdd8viHLNjoTtdv3SvoTJ-Qpx4DpfcXPHQSg#provenance> ;\n",
    "#        np:hasPublicationInfo  <http://purl.org/np/RASqUFyaiZdd8viHLNjoTtdv3SvoTJ-Qpx4DpfcXPHQSg#publicationInfo> ;\n",
    "#        prov:wasDerivedFrom    <http://identifiers.org/wikipathways/WP176_r85063> ."
   ]
  },
  {
   "cell_type": "code",
   "execution_count": 46,
   "metadata": {},
   "outputs": [],
   "source": [
    "#Getting All creators from large and small corpus\n",
    "query = \"\"\"\n",
    "prefix np: <http://www.nanopub.org/nschema#>\n",
    "prefix dct: <http://purl.org/dc/terms/>\n",
    "prefix dce: <http://purl.org/dc/elements/1.1/>\n",
    "prefix pav: <http://purl.org/pav/>\n",
    "\n",
    "select (count(distinct ?creator) as ?count) where {\n",
    "  graph ?h {\n",
    "    ?np a np:Nanopublication .\n",
    "    ?np np:hasPublicationInfo ?pubinfo .\n",
    "  }\n",
    "  graph ?pubinfo {\n",
    "    ?np (dct:creator|dce:creator|pav:createdBy) ?creator .\n",
    "  }\n",
    "}GROUP By ?np\"\"\"\n",
    "\n",
    "results = queryOpenBellLarge(query)\n",
    "belLargeCreators = get_array(results)\n",
    "\n",
    "query = \"\"\"\n",
    "prefix np: <http://www.nanopub.org/nschema#>\n",
    "prefix dct: <http://purl.org/dc/terms/>\n",
    "prefix dce: <http://purl.org/dc/elements/1.1/>\n",
    "prefix pav: <http://purl.org/pav/>\n",
    "\n",
    "select (count(distinct ?creator) as ?count) where {\n",
    "  graph ?h {\n",
    "    ?np a np:Nanopublication .\n",
    "    ?np np:hasPublicationInfo ?pubinfo .\n",
    "  }\n",
    "  graph ?pubinfo {\n",
    "    ?np (dct:creator|dce:creator|pav:createdBy) ?creator .\n",
    "  }\n",
    "}GROUP By ?np\"\"\"\n",
    "\n",
    "results = queryOpenBellSmall(query)\n",
    "belSmallCreators = get_array(results)\n",
    "\n",
    "\n",
    "openBellCreators = []\n",
    "openBellCreators.extend(belLargeCreators)\n",
    "openBellCreators.extend(belSmallCreators)\n",
    "openBellCreators.sort()\n",
    "\n",
    "#Describe Nanopublication\n",
    "\n",
    "#<http://www.tkuhn.ch/bel2nanopub/RAlKFUbz4ZPgXiJNsebuH06skrZbx0Ix7XSWK5z4u69v4>\n",
    "#        a                      np:Nanopublication ;\n",
    "#        dct:created            \"2014-07-03T14:31:25.409+02:00\"^^xsd:dateTime ;\n",
    "#        pav:createdBy          orcid:0000-0002-1267-0234 , orcid:0000-0001-6818-334X ;\n",
    "#        np:hasAssertion        <http://www.tkuhn.ch/bel2nanopub/RAlKFUbz4ZPgXiJNsebuH06skrZbx0Ix7XSWK5z4u69v4#assertion> ;\n",
    "#        np:hasProvenance       <http://www.tkuhn.ch/bel2nanopub/RAlKFUbz4ZPgXiJNsebuH06skrZbx0Ix7XSWK5z4u69v4#provenance> ;\n",
    "#        np:hasPublicationInfo  <http://www.tkuhn.ch/bel2nanopub/RAlKFUbz4ZPgXiJNsebuH06skrZbx0Ix7XSWK5z4u69v4#pubinfo> ."
   ]
  },
  {
   "cell_type": "code",
   "execution_count": 47,
   "metadata": {},
   "outputs": [],
   "source": [
    "#Getting All creators from LIDDI\n",
    "query = \"\"\"\n",
    "prefix np: <http://www.nanopub.org/nschema#>\n",
    "prefix prov: <http://www.w3.org/ns/prov#>\n",
    "\n",
    "select (count(distinct ?creator) as ?count) where {\n",
    "  graph ?h {\n",
    "    ?np a np:Nanopublication .\n",
    "    ?np np:hasPublicationInfo ?pubinfo .\n",
    "  }\n",
    "  graph ?pubinfo {\n",
    "    ?np (prov:wasAttributedTo) ?creator .\n",
    "  }\n",
    "}GROUP By ?np\"\"\"\n",
    "\n",
    "results = queryLIDDI(query)\n",
    "liddiCreators = get_array(results)\n",
    "\n",
    "#Describe Nanopublication\n",
    "#ddir:EID0002_nanopub  a        np:Nanopublication ;\n",
    "#        dcterms:license        <http://creativecommons.org/licenses/by/3.0/> ;\n",
    "#        np:hasAssertion        ddir:EID0002_nanopubassertion ;\n",
    "#        np:hasProvenance       ddir:EID0002_nanopubprovenance ;\n",
    "#        np:hasPublicationInfo  ddir:EID0002_nanopubpublicationInfo ;\n",
    "#        prov:generatedAtTime   \"2016-04-06T15:01:38.194767\"^^xsd:dateTime ;\n",
    "#        prov:wasAttributedTo   orcid:0000-0001-8499-824X ."
   ]
  },
  {
   "cell_type": "code",
   "execution_count": 51,
   "metadata": {},
   "outputs": [],
   "source": [
    "# All Data in the csv File\n",
    "with open('distributionCreators.csv', mode='w') as csv_file:\n",
    "    fieldnames = ['DataSets', 'Count']\n",
    "    writer = csv.writer(csv_file, delimiter=',', quotechar='\"', quoting=csv.QUOTE_MINIMAL)\n",
    "    \n",
    "    writer.writerow(['DataSets', 'Count'])\n",
    "    \n",
    "    # For NeXtProt DataSet\n",
    "    if (len(nxtCreators) > 0):\n",
    "        for t in nxtCreators:\n",
    "            writer.writerow(['NeXtProt', t])\n",
    "    else:\n",
    "        writer.writerow(['NeXtProt', 0])\n",
    "        \n",
    "    #For Wikipathways dataset\n",
    "    if (len(wikiCreators) > 0):\n",
    "        for t in wikiCreators:\n",
    "            writer.writerow(['WikiPathways 20170513', t])\n",
    "    else:\n",
    "        writer.writerow(['WikiPathways 20170513', 0])   \n",
    "        \n",
    "    #For DisGeNet Dataset\n",
    "    for t in dgCreators:\n",
    "        writer.writerow(['DisGeNET 4.0', t])\n",
    "        \n",
    "    #For OpenBell Dataset\n",
    "    for t in openBellCreators:\n",
    "        writer.writerow(['OpenBell 20131211', t])\n",
    "\n",
    "    #For LIDDI Dataset\n",
    "    for t in liddiCreators:\n",
    "        writer.writerow(['LIDDI V1.02', t])"
   ]
  },
  {
   "cell_type": "code",
   "execution_count": 59,
   "metadata": {},
   "outputs": [
    {
     "data": {
      "image/png": "[encoded data removed]",
      "text/plain": [
       "<Figure size 1152x595.44 with 1 Axes>"
      ]
     },
     "metadata": {},
     "output_type": "display_data"
    }
   ],
   "source": [
    "dataCreators = pd.read_csv('distributionCreators.csv')\n",
    "\n",
    "sns.set(style=\"whitegrid\")\n",
    "ax = sns.boxplot(x=\"DataSets\", y=\"Count\", data=dataCreators, palette=\"Set3\")\n",
    "ax.axes.set_title(\"Creators Distribution\",fontsize=30)\n",
    "ax.axes.set_xlabel('--------------------------\\nDatasets', fontsize=14)\n",
    "ax.set_ylim(0, 10);"
   ]
  },
  {
   "cell_type": "markdown",
   "metadata": {},
   "source": [
    "## Total Nanopublications in each dataset"
   ]
  },
  {
   "cell_type": "code",
   "execution_count": 63,
   "metadata": {},
   "outputs": [],
   "source": [
    "# The following query represent the count of nanopublication in neXtProt \n",
    "query = \"\"\"\n",
    "prefix np: <http://www.nanopub.org/nschema#>\n",
    "select (count(*) as ?count) where {\n",
    "      graph ?h {\n",
    "        ?_np_iri a np:Nanopublication .\n",
    "       }\n",
    "    }\n",
    "\"\"\"\n",
    "\n",
    "results = queryNeXtProt(query)\n",
    "nxtTotalNano = get_array(results)"
   ]
  },
  {
   "cell_type": "code",
   "execution_count": 64,
   "metadata": {},
   "outputs": [
    {
     "data": {
      "text/plain": [
       "[220916]"
      ]
     },
     "execution_count": 64,
     "metadata": {},
     "output_type": "execute_result"
    }
   ],
   "source": [
    "nxtTotalNano"
   ]
  },
  {
   "cell_type": "code",
   "execution_count": 65,
   "metadata": {},
   "outputs": [],
   "source": [
    "# The following query represent the count of nanopublication in DisGeNET \n",
    "query = \"\"\"\n",
    "prefix np: <http://www.nanopub.org/nschema#>\n",
    "select (count(*) as ?count) where {\n",
    "      graph ?h {\n",
    "        ?_np_iri a np:Nanopublication .\n",
    "       }\n",
    "    }\n",
    "\"\"\"\n",
    "\n",
    "results = queryDisGeNET(query)\n",
    "dgTotalNano = get_array(results)"
   ]
  },
  {
   "cell_type": "code",
   "execution_count": 66,
   "metadata": {},
   "outputs": [
    {
     "data": {
      "text/plain": [
       "[1414902]"
      ]
     },
     "execution_count": 66,
     "metadata": {},
     "output_type": "execute_result"
    }
   ],
   "source": [
    "dgTotalNano"
   ]
  },
  {
   "cell_type": "code",
   "execution_count": 67,
   "metadata": {},
   "outputs": [],
   "source": [
    "# The following query represent the count of nanopublication in Wikipathways \n",
    "query = \"\"\"\n",
    "prefix np: <http://www.nanopub.org/nschema#>\n",
    "select (count(*) as ?count) where {\n",
    "      graph ?h {\n",
    "        ?_np_iri a np:Nanopublication .\n",
    "       }\n",
    "    }\n",
    "\"\"\"\n",
    "\n",
    "results = queryWP(query)\n",
    "wikiTotalNano = get_array(results)"
   ]
  },
  {
   "cell_type": "code",
   "execution_count": 68,
   "metadata": {},
   "outputs": [
    {
     "data": {
      "text/plain": [
       "[26934]"
      ]
     },
     "execution_count": 68,
     "metadata": {},
     "output_type": "execute_result"
    }
   ],
   "source": [
    "wikiTotalNano"
   ]
  },
  {
   "cell_type": "code",
   "execution_count": 74,
   "metadata": {},
   "outputs": [],
   "source": [
    "# The following query represent the count of nanopublication in large and small corpus \n",
    "query = \"\"\"\n",
    "prefix np: <http://www.nanopub.org/nschema#>\n",
    "select (count(*) as ?count) where {\n",
    "      graph ?h {\n",
    "        ?_np_iri a np:Nanopublication .\n",
    "       }\n",
    "    }\n",
    "\"\"\"\n",
    "\n",
    "results = queryOpenBellLarge(query)\n",
    "largeTotalNano = get_array(results)\n",
    "\n",
    "query = \"\"\"\n",
    "prefix np: <http://www.nanopub.org/nschema#>\n",
    "select (count(*) as ?count) where {\n",
    "      graph ?h {\n",
    "        ?_np_iri a np:Nanopublication .\n",
    "       }\n",
    "    }\n",
    "\"\"\"\n",
    "\n",
    "results = queryOpenBellSmall(query)\n",
    "smallTotalNano = get_array(results)\n",
    "\n",
    "openBelTotalNano = []\n",
    "openBelTotalNano.append(largeTotalNano[0] + smallTotalNano[0])"
   ]
  },
  {
   "cell_type": "code",
   "execution_count": 75,
   "metadata": {},
   "outputs": [
    {
     "data": {
      "text/plain": [
       "[74173]"
      ]
     },
     "execution_count": 75,
     "metadata": {},
     "output_type": "execute_result"
    }
   ],
   "source": [
    "openBelTotalNano"
   ]
  },
  {
   "cell_type": "code",
   "execution_count": 71,
   "metadata": {},
   "outputs": [],
   "source": [
    "# The following query represent the count of nanopublication in LIDDI \n",
    "query = \"\"\"\n",
    "prefix np: <http://www.nanopub.org/nschema#>\n",
    "select (count(*) as ?count) where {\n",
    "      graph ?h {\n",
    "        ?_np_iri a np:Nanopublication .\n",
    "       }\n",
    "    }\n",
    "\"\"\"\n",
    "\n",
    "results = queryLIDDI(query)\n",
    "liddiTotalNano = get_array(results)"
   ]
  },
  {
   "cell_type": "code",
   "execution_count": 72,
   "metadata": {},
   "outputs": [
    {
     "data": {
      "text/plain": [
       "[98085]"
      ]
     },
     "execution_count": 72,
     "metadata": {},
     "output_type": "execute_result"
    }
   ],
   "source": [
    "liddiTotalNano"
   ]
  },
  {
   "cell_type": "code",
   "execution_count": 76,
   "metadata": {},
   "outputs": [],
   "source": [
    "# All Data in the csv File\n",
    "with open('totalNanopublications.csv', mode='w') as csv_file:\n",
    "    fieldnames = ['DataSets', 'Count']\n",
    "    writer = csv.writer(csv_file, delimiter=',', quotechar='\"', quoting=csv.QUOTE_MINIMAL)\n",
    "    \n",
    "    writer.writerow(['DataSets', 'Count'])\n",
    "    \n",
    "    # For NeXtProt DataSet\n",
    "    for t in nxtTotalNano:\n",
    "            writer.writerow(['neXtProt 19001_20000', t])\n",
    "    \n",
    "    #For Wikipathways dataset\n",
    "    for t in wikiTotalNano:\n",
    "        writer.writerow(['WikiPathways 20170513', t])\n",
    "        \n",
    "    #For DisGeNet Dataset\n",
    "    for t in dgTotalNano:\n",
    "        writer.writerow(['DisGeNET 4.0', t])\n",
    "        \n",
    "    #For OpenBell Dataset\n",
    "    for t in openBelTotalNano:\n",
    "        writer.writerow(['OpenBell 20131211', t])\n",
    "\n",
    "    #For LIDDI Dataset\n",
    "    for t in liddiTotalNano:\n",
    "        writer.writerow(['LIDDI V1.02', t])"
   ]
  },
  {
   "cell_type": "code",
   "execution_count": 14,
   "metadata": {},
   "outputs": [
    {
     "data": {
      "text/plain": [
       "Text(0, 0.5, 'Total Nanopublication Count')"
      ]
     },
     "execution_count": 14,
     "metadata": {},
     "output_type": "execute_result"
    },
    {
     "data": {
      "image/png": "[encoded data removed]",
      "text/plain": [
       "<Figure size 1224x648 with 1 Axes>"
      ]
     },
     "metadata": {},
     "output_type": "display_data"
    }
   ],
   "source": [
    "dataNP = pd.read_csv('totalNanopublications.csv')\n",
    "sns.set(style=\"whitegrid\")\n",
    "#For bar plot use following line\n",
    "ax = sns.barplot(x=\"DataSets\", y=\"Count\", data=dataNP)\n",
    "\n",
    "#For boxplot use following line\n",
    "#ax = sns.boxplot(x=\"DataSets\", y=\"Count\", data=dataNP, palette=\"Set3\")\n",
    "\n",
    "#ax.axes.set_title(\"Total number of Nanopublications in each dataset\",fontsize=30)\n",
    "ax.axes.set_xlabel('--------------------------\\nDatasets', fontsize=14)\n",
    "ax.axes.set_ylabel('Total Nanopublication Count', fontsize=14)"
   ]
  },
  {
   "cell_type": "code",
   "execution_count": null,
   "metadata": {},
   "outputs": [],
   "source": []
  }
 ],
 "metadata": {
  "kernelspec": {
   "display_name": "Python 3",
   "language": "python",
   "name": "python3"
  },
  "language_info": {
   "codemirror_mode": {
    "name": "ipython",
    "version": 3
   },
   "file_extension": ".py",
   "mimetype": "text/x-python",
   "name": "python",
   "nbconvert_exporter": "python",
   "pygments_lexer": "ipython3",
   "version": "3.8.5"
  }
 },
 "nbformat": 4,
 "nbformat_minor": 2
}
